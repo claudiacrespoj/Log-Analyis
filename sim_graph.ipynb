{
 "cells": [
  {
   "cell_type": "code",
   "execution_count": 2,
   "metadata": {},
   "outputs": [],
   "source": [
    "import itertools\n",
    "import multiprocessing\n",
    "import os\n",
    "import re\n",
    "import sys\n",
    "from collections import Counter, defaultdict\n",
    "from datetime import datetime\n",
    "from itertools import groupby\n",
    "from math import isclose\n",
    "\n",
    "import en_core_web_lg\n",
    "import matplotlib.pyplot as plt\n",
    "import networkx as nx\n",
    "import numpy as np\n",
    "import pandas as pd\n",
    "import wordninja\n",
    "from gensim.models import Word2Vec\n",
    "from IPython.display import HTML, display\n",
    "from node2vec import Node2Vec as n2v\n",
    "from sklearn.decomposition import PCA\n",
    "from sklearn.feature_extraction.text import CountVectorizer, TfidfTransformer\n",
    "from sklearn.linear_model import LogisticRegressionCV\n",
    "from sklearn.metrics import roc_auc_score\n",
    "from sklearn.model_selection import train_test_split\n",
    "from sklearn.pipeline import Pipeline\n",
    "from sklearn.preprocessing import StandardScaler\n",
    "from stellargraph import StellarGraph, datasets\n",
    "from stellargraph.data import BiasedRandomWalk, EdgeSplitter\n",
    "from thefuzz import fuzz\n",
    "from tqdm import tqdm\n",
    "\n",
    "from knowledge_layer import KnowledgeGroupLayer\n",
    "\n",
    "input_dir = \"/logs/\"  # The input directory of log file\n",
    "output_dir = \"LogParserResult/\"  # The output directory of parsing results"
   ]
  },
  {
   "cell_type": "code",
   "execution_count": 3,
   "metadata": {},
   "outputs": [],
   "source": [
    "def remove_repeated(val):\n",
    "    x = val.split(\" \")\n",
    "    str_list = list(filter(None, x))\n",
    "    clean = [i[0] for i in groupby(str_list)]\n",
    "    return \" \".join(clean)\n",
    "\n",
    "\n",
    "def preprocess_document(document):\n",
    "    dic_debug = {}\n",
    "    nlp = en_core_web_lg.load()\n",
    "    # log_list =  [re.sub(r\"[^A-Za-z]+\", ' ', _) for _ in document]\n",
    "    for log in document:\n",
    "        splitted_log = wordninja.split(log.lower().rstrip())\n",
    "        remove_urls = re.sub(\"[^ ]+\\.[^ ]+\", \"<*>\", \" \".join(splitted_log))\n",
    "\n",
    "        remove_float = re.sub(\"(\\d*\\.\\d+)|(\\d+\\.[0-9 ]+)\", \"<*>\", remove_urls)\n",
    "        remove_int = re.sub(r\"\\d+\", \"<*>\", remove_float)\n",
    "        generic_str = re.sub(r\"\\b\\w{1,2}\\b\", \"\", remove_int)\n",
    "\n",
    "        dic_debug[log] = remove_repeated(generic_str)\n",
    "    logs_clean = dic_debug.values()\n",
    "    return logs_clean"
   ]
  },
  {
   "cell_type": "code",
   "execution_count": 4,
   "metadata": {},
   "outputs": [],
   "source": [
    "def compute_generic_string(dataset):\n",
    "    # edge case where all strings are the same\n",
    "    if len(set(dataset)) == 1:\n",
    "        return dataset[0]\n",
    "    commonprefix = os.path.commonprefix(dataset)\n",
    "\n",
    "    return \"{}<*> {}\".format(\n",
    "        commonprefix,\n",
    "        os.path.commonprefix([s[len(commonprefix) :][::-1] for s in dataset])[::-1],\n",
    "    )"
   ]
  },
  {
   "cell_type": "code",
   "execution_count": 5,
   "metadata": {},
   "outputs": [],
   "source": [
    "def remove_repeated(val):\n",
    "    x = val.split(\" \")\n",
    "    str_list = list(filter(None, x))\n",
    "    clean = [i[0] for i in groupby(str_list)]\n",
    "    return \" \".join(clean)"
   ]
  },
  {
   "cell_type": "code",
   "execution_count": 6,
   "metadata": {},
   "outputs": [
    {
     "name": "stderr",
     "output_type": "stream",
     "text": [
      "processing similar logs: 1it [00:00, 1002.22it/s]"
     ]
    },
    {
     "name": "stdout",
     "output_type": "stream",
     "text": [
      "in wild card step\n"
     ]
    },
    {
     "name": "stderr",
     "output_type": "stream",
     "text": [
      "\n"
     ]
    },
    {
     "data": {
      "text/plain": [
       "['block broadcast <*> stored values memory estimated size <*> free <*>',\n",
       " \"saved output task ' attempt <*> ' hdf <*> test <*> temporary <*> task <*>\"]"
      ]
     },
     "execution_count": 6,
     "metadata": {},
     "output_type": "execute_result"
    }
   ],
   "source": [
    "def transform_wildcard(document):\n",
    "    print(\"in wild card step\")\n",
    "    logs_clean = list(set(document))  # remove repeated logs\n",
    "\n",
    "    logs_dict = {}\n",
    "    for doc1, doc2 in tqdm(\n",
    "        itertools.combinations(logs_clean, 2), desc=\"processing similar logs\"\n",
    "    ):\n",
    "\n",
    "        pair = [doc1, doc2]\n",
    "        ratio = fuzz.ratio(doc1, doc2)\n",
    "        if ratio > 70:\n",
    "            c = compute_generic_string(pair)\n",
    "            # generic_str = re.sub(r'\\b\\w{1,2}\\b', '', c)\n",
    "\n",
    "            if c not in logs_dict.values():\n",
    "                p_string = remove_repeated(c)\n",
    "                logs_dict[doc1] = p_string\n",
    "                logs_dict[doc2] = p_string\n",
    "\n",
    "        else:\n",
    "            if doc1 not in logs_dict.keys():\n",
    "                logs_dict[doc1] = remove_repeated(doc1)\n",
    "\n",
    "            if doc2 not in logs_dict.keys():\n",
    "                logs_dict[doc2] = remove_repeated(doc2)\n",
    "\n",
    "    return list(set(logs_dict.values()))\n",
    "\n",
    "\n",
    "temp = [\n",
    "    \"Block broadcast_9 stored as values in memory (estimated size 8.8 KB, free 14.0 KB)\",\n",
    "    \"Block broadcast_8 stored as values in memory (estimated size 281.6 KB, free 317.0 KB)\",\n",
    "    \"Block broadcast_2 stored as values in memory (estimated size 384.0 B, free 319.4 KB)\",\n",
    "    \"Block broadcast_12 stored as values in memory (estimated size 9.8 KB, free 369.3 KB)\",\n",
    "    \"Saved output of task 'attempt_201706092018_0024_m_000003_1012' to hdfs://10.10.34.11:9000/pjhe/test/1/_temporary/0/task_201706092018_0024_m_000003\",\n",
    "]\n",
    "pdoc = preprocess_document(temp)\n",
    "transform_wildcard(pdoc)"
   ]
  },
  {
   "cell_type": "code",
   "execution_count": 7,
   "metadata": {},
   "outputs": [],
   "source": [
    "def get_relations(document):\n",
    "\n",
    "    # in our case, relations are bigrams in sentences\n",
    "    bigrams = []\n",
    "    nlp = en_core_web_lg.load()\n",
    "    # for sent in document:\n",
    "\n",
    "    new_dict = {}\n",
    "    for doc1, doc2 in itertools.combinations(document, 2):\n",
    "        if doc1 != doc2:\n",
    "            pdoc1 = re.sub(\"[^a-zA-Z0-9]+\", \" \", doc1)\n",
    "            pdoc2 = re.sub(\"[^a-zA-Z0-9]+\", \" \", doc2)\n",
    "\n",
    "            pair = [doc1, doc2]\n",
    "            pdoc1 = nlp(pdoc1)\n",
    "            pdoc2 = nlp(pdoc2)\n",
    "            # only add unique bigrams\n",
    "            similarity = pdoc1.similarity(pdoc2)\n",
    "            ratio = fuzz.ratio(doc1, doc2)\n",
    "            print(pair, similarity, ratio)\n",
    "            if similarity > 0.7 or ratio > 70:\n",
    "\n",
    "                if pair not in bigrams:\n",
    "                    bigrams.append(pair)\n",
    "\n",
    "    return bigrams"
   ]
  },
  {
   "cell_type": "code",
   "execution_count": 8,
   "metadata": {},
   "outputs": [],
   "source": [
    "def load_logs(log_file, regex, headers):\n",
    "    \"\"\" Function to transform log file to dataframe\n",
    "    \"\"\"\n",
    "    log_messages = dict()\n",
    "    linecount = 0\n",
    "    with open(log_file, \"r\") as fin:\n",
    "        for line in tqdm(fin.readlines(), desc=\"load data\"):\n",
    "            try:\n",
    "                linecount += 1\n",
    "                match = regex.search(line.strip())\n",
    "                message = dict()\n",
    "                for header in headers:\n",
    "                    message[header] = match.group(header)\n",
    "                message[\"LineId\"] = linecount\n",
    "                log_messages[linecount] = message\n",
    "            except Exception as e:\n",
    "                pass\n",
    "    return log_messages"
   ]
  },
  {
   "cell_type": "code",
   "execution_count": 9,
   "metadata": {},
   "outputs": [],
   "source": [
    "benchmark_settings = {\n",
    "    \"HDFS\": {\n",
    "        \"log_file\": \"HDFS/HDFS_2k.log\",\n",
    "        \"log_format\": \"<Date> <Time> <Pid> <Level> <Component>: <Content>\",\n",
    "    },\n",
    "    \"claudia\": {\n",
    "        \"log_file\": \"HDFS/HDFS_2k.log\",\n",
    "        \"log_format\": \"<Date> <Time> <Pid> <Level> <Component>: <Content>\",\n",
    "    },\n",
    "    \"Hadoop\": {\n",
    "        \"log_file\": \"Hadoop/Hadoop_2k.log\",\n",
    "        \"log_format\": \"<Date> <Time> <Level> \\[<Process>\\] <Component>: <Content>\",\n",
    "    },\n",
    "    \"Spark\": {\n",
    "        \"log_file\": \"Spark/Spark_2k.log\",\n",
    "        \"log_format\": \"<Date> <Time> <Level> <Component>: <Content>\",\n",
    "    },\n",
    "    \"Zookeeper\": {\n",
    "        \"log_file\": \"Zookeeper/Zookeeper_2k.log\",\n",
    "        \"log_format\": \"<Date> <Time> - <Level>  \\[<Node>:<Component>@<Id>\\] - <Content>\",\n",
    "    },\n",
    "    \"BGL\": {\n",
    "        \"log_file\": \"BGL/BGL_2k.log\",\n",
    "        \"log_format\": \"<Label> <Timestamp> <Date> <Node> <Time> <NodeRepeat> <Type> <Component> <Level> <Content>\",\n",
    "    },\n",
    "    \"HPC\": {\n",
    "        \"log_file\": \"HPC/HPC_2k.log\",\n",
    "        \"log_format\": \"<LogId> <Node> <Component> <State> <Time> <Flag> <Content>\",\n",
    "    },\n",
    "    \"Thunderbird\": {\n",
    "        \"log_file\": \"Thunderbird/Thunderbird_2k.log\",\n",
    "        \"log_format\": \"<Label> <Timestamp> <Date> <User> <Month> <Day> <Time> <Location> <Component>(\\[<PID>\\])?: <Content>\",\n",
    "    },\n",
    "    \"Windows\": {\n",
    "        \"log_file\": \"Windows/Windows_2k.log\",\n",
    "        \"log_format\": \"<Date> <Time>, <Level>                  <Component>    <Content>\",\n",
    "    },\n",
    "    \"Linux\": {\n",
    "        \"log_file\": \"Linux/Linux_2k.log\",\n",
    "        \"log_format\": \"<Month> <Date> <Time> <Level> <Component>(\\[<PID>\\])?: <Content>\",\n",
    "    },\n",
    "    \"Andriod\": {\n",
    "        \"log_file\": \"Andriod/Andriod_2k.log\",\n",
    "        \"log_format\": \"<Date> <Time>  <Pid>  <Tid> <Level> <Component>: <Content>\",\n",
    "    },\n",
    "    \"HealthApp\": {\n",
    "        \"log_file\": \"HealthApp/HealthApp_2k.log\",\n",
    "        \"log_format\": \"<Time>\\|<Component>\\|<Pid>\\|<Content>\",\n",
    "    },\n",
    "    \"Apache\": {\n",
    "        \"log_file\": \"Apache/Apache_2k.log\",\n",
    "        \"log_format\": \"\\[<Time>\\] \\[<Level>\\] <Content>\",\n",
    "    },\n",
    "    \"Proxifier\": {\n",
    "        \"log_file\": \"Proxifier/Proxifier_2k.log\",\n",
    "        \"log_format\": \"\\[<Time>\\] <Program> - <Content>\",\n",
    "    },\n",
    "    \"OpenSSH\": {\n",
    "        \"log_file\": \"OpenSSH/OpenSSH_2k.log\",\n",
    "        \"log_format\": \"<Date> <Day> <Time> <Component> sshd\\[<Pid>\\]: <Content>\",\n",
    "    },\n",
    "    \"OpenStack\": {\n",
    "        \"log_file\": \"OpenStack/OpenStack_2k.log\",\n",
    "        \"log_format\": \"<Logrecord> <Date> <Time> <Pid> <Level> <Component> \\[<ADDR>\\] <Content>\",\n",
    "    },\n",
    "    \"Mac\": {\n",
    "        \"log_file\": \"Mac/Mac_2k.log\",\n",
    "        \"log_format\": \"<Month>  <Date> <Time> <User> <Component>\\[<PID>\\]( \\(<Address>\\))?: <Content>\",\n",
    "    },\n",
    "}"
   ]
  },
  {
   "cell_type": "code",
   "execution_count": 10,
   "metadata": {},
   "outputs": [],
   "source": [
    "def generate_logformat_regex(logformat):\n",
    "    \"\"\" Function to generate regular expression to split log messages\n",
    "    \"\"\"\n",
    "    headers = []\n",
    "    splitters = re.split(r\"(<[^<>]+>)\", logformat)\n",
    "    regex = \"\"\n",
    "    for k in range(len(splitters)):\n",
    "        if k % 2 == 0:\n",
    "            splitter = re.sub(\" +\", \"\\\\\\s+\", splitters[k])\n",
    "            regex += splitter\n",
    "        else:\n",
    "            header = splitters[k].strip(\"<\").strip(\">\")\n",
    "            regex += \"(?P<%s>.*?)\" % header\n",
    "            headers.append(header)\n",
    "    regex = re.compile(\"^\" + regex + \"$\")\n",
    "    return headers, regex"
   ]
  },
  {
   "cell_type": "code",
   "execution_count": 11,
   "metadata": {},
   "outputs": [],
   "source": [
    "def plot_graph(G, title=None):\n",
    "    # set figure size\n",
    "    plt.figure(figsize=(10, 10))\n",
    "\n",
    "    # define position of nodes in figure\n",
    "    # G= nx.convert_node_labels_to_integers(G, first_label=0)\n",
    "\n",
    "    pos = nx.nx_agraph.graphviz_layout(G)\n",
    "    # draw nodes and edges\n",
    "    nx.draw(G, pos=pos, with_labels=True)\n",
    "\n",
    "    # get edge labels (if any)\n",
    "    edge_labels = nx.get_edge_attributes(G, \"weight\")\n",
    "\n",
    "    # draw edge labels (if any)\n",
    "    # nx.draw_networkx_nodes(G, pos, edge_labels=edge_labels)\n",
    "    nx.draw_networkx_nodes(G, pos)\n",
    "    # plot the title (if any)\n",
    "    plt.title(dataset + \" Logs\")\n",
    "\n",
    "    plt.show()\n",
    "    return"
   ]
  },
  {
   "cell_type": "code",
   "execution_count": 12,
   "metadata": {},
   "outputs": [],
   "source": [
    "def build_graph(doc):\n",
    "    # preprocess document for standardization\n",
    "    pdoc = preprocess_document(doc)\n",
    "    # get graph nodes\n",
    "    # df = co_occurrence(pdoc, 2)\n",
    "    pdoc = transform_wildcard(pdoc)\n",
    "\n",
    "    # print(pdoc)\n",
    "    # get graph edges\n",
    "    if \"<*>\" in pdoc:\n",
    "        pdoc.remove(\"<*>\")\n",
    "    edges = get_relations(pdoc)\n",
    "    # nodes = log_transformer(pdoc)\n",
    "    # create graph structure with NetworkX\n",
    "    G = nx.Graph()\n",
    "    G.add_nodes_from(pdoc)\n",
    "    atrributes = Counter(pdoc)\n",
    "    nx.set_node_attributes(G, atrributes, \"count\")\n",
    "    # G.remove_node('idf_weights')\n",
    "    G.add_edges_from(edges)\n",
    "    G.remove_edges_from(nx.selfloop_edges(G))\n",
    "\n",
    "    return G"
   ]
  },
  {
   "cell_type": "code",
   "execution_count": 13,
   "metadata": {},
   "outputs": [
    {
     "name": "stderr",
     "output_type": "stream",
     "text": [
      "load data: 100%|██████████| 2000/2000 [00:00<00:00, 111417.29it/s]\n",
      "priori knowledge preprocess: 100%|██████████| 2000/2000 [00:00<00:00, 32344.24it/s]"
     ]
    },
    {
     "name": "stdout",
     "output_type": "stream",
     "text": [
      "Parsing file: ../log_parser/logs/HDFS/HDFS_2k.log\n",
      "Knowledge group layer finished.\n"
     ]
    },
    {
     "name": "stderr",
     "output_type": "stream",
     "text": [
      "\n",
      "processing similar logs: 190it [00:00, 190422.40it/s]"
     ]
    },
    {
     "name": "stdout",
     "output_type": "stream",
     "text": [
      "in wild card step\n"
     ]
    },
    {
     "name": "stderr",
     "output_type": "stream",
     "text": [
      "\n"
     ]
    },
    {
     "name": "stdout",
     "output_type": "stream",
     "text": [
      "['received block <*> size <*><*>', 'block name system delete <*> added invalid set'] 0.6236996745391903 34\n",
      "['received block <*> size <*><*>', 'receiving block <*>'] 0.7690917252775089 65\n",
      "['received block <*> size <*><*>', 'served block <*>'] 0.6007951362731601 61\n",
      "['received block <*> size <*><*>', 'block name system allocate block user root <*> temporary task <*> part <*>'] 0.6226202001332041 42\n",
      "['received block <*> size <*><*>', 'got exception while serving <*>'] 0.49823622865100403 43\n",
      "['received block <*> size <*><*>', 'block name system allocate block user root rand t<*> emporary task <*> part <*>'] 0.5829989653303961 40\n",
      "['received block <*> size <*><*>', 'deleting block <*> file had oop data current <*>'] 0.5639064611241787 51\n",
      "['received block <*> size <*><*>', 'packet responder <*> for block <*> terminating'] 0.668410170168642 42\n",
      "['received block <*> size <*><*>', 'starting thread transfer block <*>'] 0.6647625243052727 44\n",
      "['received block <*> size <*><*>', 'verification succeeded for <*>'] 0.46155047192055143 37\n",
      "['received block <*> size <*><*>', 'block name system allocate block user root rand <*> temporary task <*> part <*>'] 0.6263451695563506 40\n",
      "['received block <*> size <*><*>', 'block ask delete <*>'] 0.3980348175754617 48\n",
      "['received block <*> size <*><*>', 'block ask replicate <*> data node'] 0.5107025620243778 41\n",
      "['received block <*> size <*><*>', 'block name system add stored block map updated added <*> size <*>'] 0.7505710962226507 48\n",
      "['received block <*> size <*><*>', 'block name system allocate block user root rand txt <*> temporary task <*> part <*>'] 0.6274778056336227 39\n",
      "['block name system delete <*> added invalid set', 'receiving block <*>'] 0.6789717986893175 28\n",
      "['block name system delete <*> added invalid set', 'served block <*>'] 0.5479606402453118 29\n",
      "['block name system delete <*> added invalid set', 'block name system allocate block user root <*> temporary task <*> part <*>'] 0.8319143656119433 53\n",
      "['block name system delete <*> added invalid set', 'got exception while serving <*>'] 0.4653730013038967 31\n",
      "['block name system delete <*> added invalid set', 'block name system allocate block user root rand t<*> emporary task <*> part <*>'] 0.7556717125676298 51\n",
      "['block name system delete <*> added invalid set', 'deleting block <*> file had oop data current <*>'] 0.7106269044755825 36\n",
      "['block name system delete <*> added invalid set', 'packet responder <*> for block <*> terminating'] 0.7019265750063323 39\n",
      "['block name system delete <*> added invalid set', 'starting thread transfer block <*>'] 0.7526657116919951 28\n",
      "['block name system delete <*> added invalid set', 'verification succeeded for <*>'] 0.5258057490170146 29\n",
      "['block name system delete <*> added invalid set', 'block name system allocate block user root rand <*> temporary task <*> part <*>'] 0.8313116805048492 51\n",
      "['block name system delete <*> added invalid set', 'block ask delete <*>'] 0.5817271904050049 58\n",
      "['block name system delete <*> added invalid set', 'block ask replicate <*> data node'] 0.676871105994716 58\n",
      "['block name system delete <*> added invalid set', 'block name system add stored block map updated added <*> size <*>'] 0.8627690931002414 59\n",
      "['block name system delete <*> added invalid set', 'block name system allocate block user root rand txt <*> temporary task <*> part <*>'] 0.8339052584237616 50\n",
      "['receiving block <*>', 'served block <*>'] 0.6777481409029583 69\n",
      "['receiving block <*>', 'block name system allocate block user root <*> temporary task <*> part <*>'] 0.7110873275608657 28\n",
      "['receiving block <*>', 'got exception while serving <*>'] 0.610550007232937 48\n",
      "['receiving block <*>', 'block name system allocate block user root rand t<*> emporary task <*> part <*>'] 0.6307314177255522 27\n",
      "['receiving block <*>', 'deleting block <*> file had oop data current <*>'] 0.6666584489376202 45\n",
      "['receiving block <*>', 'packet responder <*> for block <*> terminating'] 0.8158410333312703 40\n",
      "['receiving block <*>', 'starting thread transfer block <*>'] 0.8247852148853737 53\n",
      "['receiving block <*>', 'verification succeeded for <*>'] 0.552834267604302 41\n",
      "['receiving block <*>', 'block name system allocate block user root rand <*> temporary task <*> part <*>'] 0.7130957071127634 27\n",
      "['receiving block <*>', 'block ask delete <*>'] 0.5024235058334977 46\n",
      "['receiving block <*>', 'block ask replicate <*> data node'] 0.5853055879495482 35\n",
      "['receiving block <*>', 'block name system add stored block map updated added <*> size <*>'] 0.6683745864947611 29\n",
      "['receiving block <*>', 'block name system allocate block user root rand txt <*> temporary task <*> part <*>'] 0.7112376320784315 25\n",
      "['served block <*>', 'block name system allocate block user root <*> temporary task <*> part <*>'] 0.5357059799731095 29\n",
      "['served block <*>', 'got exception while serving <*>'] 0.5877179661572749 34\n",
      "['served block <*>', 'block name system allocate block user root rand t<*> emporary task <*> part <*>'] 0.4266858585530256 27\n",
      "['served block <*>', 'deleting block <*> file had oop data current <*>'] 0.45300790364009524 38\n",
      "['served block <*>', 'packet responder <*> for block <*> terminating'] 0.6131821201460887 45\n",
      "['served block <*>', 'starting thread transfer block <*>'] 0.588280496972624 56\n",
      "['served block <*>', 'verification succeeded for <*>'] 0.4821020532278967 43\n",
      "['served block <*>', 'block name system allocate block user root rand <*> temporary task <*> part <*>'] 0.529532809923332 27\n",
      "['served block <*>', 'block ask delete <*>'] 0.33848834839678665 50\n",
      "['served block <*>', 'block ask replicate <*> data node'] 0.3660800930154396 37\n",
      "['served block <*>', 'block name system add stored block map updated added <*> size <*>'] 0.5594878552075248 37\n",
      "['served block <*>', 'block name system allocate block user root rand txt <*> temporary task <*> part <*>'] 0.5296453772884971 26\n",
      "['block name system allocate block user root <*> temporary task <*> part <*>', 'got exception while serving <*>'] 0.5034314495904268 30\n",
      "['block name system allocate block user root <*> temporary task <*> part <*>', 'block name system allocate block user root rand t<*> emporary task <*> part <*>'] 0.9202524168402784 95\n",
      "['block name system allocate block user root <*> temporary task <*> part <*>', 'deleting block <*> file had oop data current <*>'] 0.7412393295439601 43\n",
      "['block name system allocate block user root <*> temporary task <*> part <*>', 'packet responder <*> for block <*> terminating'] 0.7728119988709542 42\n",
      "['block name system allocate block user root <*> temporary task <*> part <*>', 'starting thread transfer block <*>'] 0.796321298434545 33\n",
      "['block name system allocate block user root <*> temporary task <*> part <*>', 'verification succeeded for <*>'] 0.5840183849968523 29\n",
      "['block name system allocate block user root <*> temporary task <*> part <*>', 'block name system allocate block user root rand <*> temporary task <*> part <*>'] 0.9957696993166523 97\n",
      "['block name system allocate block user root <*> temporary task <*> part <*>', 'block ask delete <*>'] 0.5008860561951293 38\n",
      "['block name system allocate block user root <*> temporary task <*> part <*>', 'block ask replicate <*> data node'] 0.7204171820570349 43\n",
      "['block name system allocate block user root <*> temporary task <*> part <*>', 'block name system add stored block map updated added <*> size <*>'] 0.7879999106754424 60\n",
      "['block name system allocate block user root <*> temporary task <*> part <*>', 'block name system allocate block user root rand txt <*> temporary task <*> part <*>'] 0.994473715841872 94\n",
      "['got exception while serving <*>', 'block name system allocate block user root rand t<*> emporary task <*> part <*>'] 0.4299306810728563 31\n",
      "['got exception while serving <*>', 'deleting block <*> file had oop data current <*>'] 0.5001826900374208 41\n",
      "['got exception while serving <*>', 'packet responder <*> for block <*> terminating'] 0.651070349055557 36\n",
      "['got exception while serving <*>', 'starting thread transfer block <*>'] 0.5944644047711778 46\n",
      "['got exception while serving <*>', 'verification succeeded for <*>'] 0.5871711360727012 46\n",
      "['got exception while serving <*>', 'block name system allocate block user root rand <*> temporary task <*> part <*>'] 0.5048228360286183 31\n",
      "['got exception while serving <*>', 'block ask delete <*>'] 0.24019450573548254 39\n",
      "['got exception while serving <*>', 'block ask replicate <*> data node'] 0.32515182519729124 31\n",
      "['got exception while serving <*>', 'block name system add stored block map updated added <*> size <*>'] 0.44461576517441037 33\n",
      "['got exception while serving <*>', 'block name system allocate block user root rand txt <*> temporary task <*> part <*>'] 0.500502431309733 30\n",
      "['block name system allocate block user root rand t<*> emporary task <*> part <*>', 'deleting block <*> file had oop data current <*>'] 0.6776710223221377 41\n",
      "['block name system allocate block user root rand t<*> emporary task <*> part <*>', 'packet responder <*> for block <*> terminating'] 0.7077404622209711 42\n",
      "['block name system allocate block user root rand t<*> emporary task <*> part <*>', 'starting thread transfer block <*>'] 0.7299516843515498 35\n",
      "['block name system allocate block user root rand t<*> emporary task <*> part <*>', 'verification succeeded for <*>'] 0.5183303478908085 29\n",
      "['block name system allocate block user root rand t<*> emporary task <*> part <*>', 'block name system allocate block user root rand <*> temporary task <*> part <*>'] 0.9268101614684988 99\n",
      "['block name system allocate block user root rand t<*> emporary task <*> part <*>', 'block ask delete <*>'] 0.493458806749906 36\n",
      "['block name system allocate block user root rand t<*> emporary task <*> part <*>', 'block ask replicate <*> data node'] 0.7036524334950364 41\n",
      "['block name system allocate block user root rand t<*> emporary task <*> part <*>', 'block name system add stored block map updated added <*> size <*>'] 0.7410587463081708 60\n",
      "['block name system allocate block user root rand t<*> emporary task <*> part <*>', 'block name system allocate block user root rand txt <*> temporary task <*> part <*>'] 0.9270518024239878 98\n",
      "['deleting block <*> file had oop data current <*>', 'packet responder <*> for block <*> terminating'] 0.7069203499254246 38\n",
      "['deleting block <*> file had oop data current <*>', 'starting thread transfer block <*>'] 0.7259590956466778 41\n",
      "['deleting block <*> file had oop data current <*>', 'verification succeeded for <*>'] 0.5667251551255889 38\n",
      "['deleting block <*> file had oop data current <*>', 'block name system allocate block user root rand <*> temporary task <*> part <*>'] 0.7451804061137969 41\n",
      "['deleting block <*> file had oop data current <*>', 'block ask delete <*>'] 0.5008852639607305 44\n",
      "['deleting block <*> file had oop data current <*>', 'block ask replicate <*> data node'] 0.7903256837230503 42\n",
      "['deleting block <*> file had oop data current <*>', 'block name system add stored block map updated added <*> size <*>'] 0.6840492039539562 46\n",
      "['deleting block <*> file had oop data current <*>', 'block name system allocate block user root rand txt <*> temporary task <*> part <*>'] 0.7548581163931948 40\n",
      "['packet responder <*> for block <*> terminating', 'starting thread transfer block <*>'] 0.8122862720930617 48\n",
      "['packet responder <*> for block <*> terminating', 'verification succeeded for <*>'] 0.812769332109651 37\n",
      "['packet responder <*> for block <*> terminating', 'block name system allocate block user root rand <*> temporary task <*> part <*>'] 0.7789878753123561 42\n",
      "['packet responder <*> for block <*> terminating', 'block ask delete <*>'] 0.45696357479161304 33\n",
      "['packet responder <*> for block <*> terminating', 'block ask replicate <*> data node'] 0.6391355322406587 41\n",
      "['packet responder <*> for block <*> terminating', 'block name system add stored block map updated added <*> size <*>'] 0.6812178024675553 40\n",
      "['packet responder <*> for block <*> terminating', 'block name system allocate block user root rand txt <*> temporary task <*> part <*>'] 0.776519373263049 40\n",
      "['starting thread transfer block <*>', 'verification succeeded for <*>'] 0.556748741213282 44\n",
      "['starting thread transfer block <*>', 'block name system allocate block user root rand <*> temporary task <*> part <*>'] 0.7973969292328104 35\n",
      "['starting thread transfer block <*>', 'block ask delete <*>'] 0.49017133017230435 33\n",
      "['starting thread transfer block <*>', 'block ask replicate <*> data node'] 0.6635132030466305 33\n",
      "['starting thread transfer block <*>', 'block name system add stored block map updated added <*> size <*>'] 0.7470135424708245 40\n",
      "['starting thread transfer block <*>', 'block name system allocate block user root rand txt <*> temporary task <*> part <*>'] 0.7968115144101675 34\n",
      "['verification succeeded for <*>', 'block name system allocate block user root rand <*> temporary task <*> part <*>'] 0.5920499626736052 29\n",
      "['verification succeeded for <*>', 'block ask delete <*>'] 0.22137018649804285 40\n",
      "['verification succeeded for <*>', 'block ask replicate <*> data node'] 0.4164764406105186 32\n",
      "['verification succeeded for <*>', 'block name system add stored block map updated added <*> size <*>'] 0.44744270352502297 32\n",
      "['verification succeeded for <*>', 'block name system allocate block user root rand txt <*> temporary task <*> part <*>'] 0.5886639107064341 28\n",
      "['block name system allocate block user root rand <*> temporary task <*> part <*>', 'block ask delete <*>'] 0.5024167851519051 36\n",
      "['block name system allocate block user root rand <*> temporary task <*> part <*>', 'block ask replicate <*> data node'] 0.7274105354115386 41\n",
      "['block name system allocate block user root rand <*> temporary task <*> part <*>', 'block name system add stored block map updated added <*> size <*>'] 0.789106069610614 60\n",
      "['block name system allocate block user root rand <*> temporary task <*> part <*>', 'block name system allocate block user root rand txt <*> temporary task <*> part <*>'] 0.9984845924561048 98\n",
      "['block ask delete <*>', 'block ask replicate <*> data node'] 0.750095646517703 68\n",
      "['block ask delete <*>', 'block name system add stored block map updated added <*> size <*>'] 0.5393737087966206 42\n",
      "['block ask delete <*>', 'block name system allocate block user root rand txt <*> temporary task <*> part <*>'] 0.509157938422204 35\n",
      "['block ask replicate <*> data node', 'block name system add stored block map updated added <*> size <*>'] 0.6972366253126328 45\n",
      "['block ask replicate <*> data node', 'block name system allocate block user root rand txt <*> temporary task <*> part <*>'] 0.7309569364532945 40\n",
      "['block name system add stored block map updated added <*> size <*>', 'block name system allocate block user root rand txt <*> temporary task <*> part <*>'] 0.7942062319958544 58\n"
     ]
    }
   ],
   "source": [
    "dataset = \"HDFS\"\n",
    "filepath = \"../log_parser/logs/\" + benchmark_settings[dataset][\"log_file\"]\n",
    "print(\"Parsing file: \" + filepath)\n",
    "starttime = datetime.now()\n",
    "headers, regex = generate_logformat_regex(benchmark_settings[dataset][\"log_format\"])\n",
    "log_messages = load_logs(filepath, regex, headers)\n",
    "log_messages = KnowledgeGroupLayer(log_messages).run()\n",
    "# log_messages = DictGroupLayer(log_messages).run()\n",
    "# preprocess layer\n",
    "list_dict = log_messages.values()\n",
    "empty_dict = {}\n",
    "logs = [d.get(\"Content\", None) for d in list_dict]\n",
    "\n",
    "# print(logs[0:2])\n",
    "G = build_graph(logs)"
   ]
  },
  {
   "cell_type": "code",
   "execution_count": 14,
   "metadata": {},
   "outputs": [
    {
     "data": {
      "image/png": "[encoded data removed]",
      "text/plain": [
       "<Figure size 720x720 with 1 Axes>"
      ]
     },
     "metadata": {},
     "output_type": "display_data"
    }
   ],
   "source": [
    "plot_graph(G)"
   ]
  },
  {
   "cell_type": "code",
   "execution_count": 15,
   "metadata": {},
   "outputs": [],
   "source": [
    "nx.write_gpickle(G, \"results/\" + dataset + \"sim.gpickle\")"
   ]
  },
  {
   "cell_type": "code",
   "execution_count": 16,
   "metadata": {},
   "outputs": [
    {
     "data": {
      "image/png": "[encoded data removed]",
      "text/plain": [
       "<Figure size 576x576 with 3 Axes>"
      ]
     },
     "metadata": {
      "needs_background": "light"
     },
     "output_type": "display_data"
    }
   ],
   "source": [
    "degree_sequence = sorted((d for n, d in G.degree()), reverse=True)\n",
    "dmax = max(degree_sequence)\n",
    "\n",
    "fig = plt.figure(\"Degree of graph\", figsize=(8, 8))\n",
    "# Create a gridspec for adding subplots of different sizes\n",
    "axgrid = fig.add_gridspec(5, 4)\n",
    "\n",
    "ax0 = fig.add_subplot(axgrid[0:3, :])\n",
    "Gcc = G.subgraph(sorted(nx.connected_components(G), key=len, reverse=True)[0])\n",
    "pos = nx.spring_layout(Gcc, seed=10396953)\n",
    "nx.draw_networkx_nodes(Gcc, pos, ax=ax0, node_size=20)\n",
    "nx.draw_networkx_edges(Gcc, pos, ax=ax0, alpha=0.4)\n",
    "ax0.set_title(\"Connected components of G\")\n",
    "ax0.set_axis_off()\n",
    "\n",
    "ax1 = fig.add_subplot(axgrid[3:, :2])\n",
    "ax1.plot(degree_sequence, \"b-\", marker=\"o\")\n",
    "ax1.set_title(\"Degree Rank Plot\")\n",
    "ax1.set_ylabel(\"Degree\")\n",
    "ax1.set_xlabel(\"Rank\")\n",
    "\n",
    "ax2 = fig.add_subplot(axgrid[3:, 2:])\n",
    "ax2.bar(*np.unique(degree_sequence, return_counts=True))\n",
    "ax2.set_title(\"Degree histogram\")\n",
    "ax2.set_xlabel(\"Degree\")\n",
    "ax2.set_ylabel(\"# of Nodes\")\n",
    "\n",
    "fig.tight_layout()\n",
    "plt.show()"
   ]
  },
  {
   "cell_type": "code",
   "execution_count": 17,
   "metadata": {},
   "outputs": [
    {
     "name": "stdout",
     "output_type": "stream",
     "text": [
      "Graph with 16 nodes and 47 edges\n"
     ]
    }
   ],
   "source": [
    "print(nx.info(G))"
   ]
  },
  {
   "cell_type": "code",
   "execution_count": 18,
   "metadata": {},
   "outputs": [
    {
     "name": "stderr",
     "output_type": "stream",
     "text": [
      "Computing transition probabilities: 100%|██████████| 16/16 [00:00<00:00, 3208.65it/s]\n",
      "Generating walks (CPU: 1): 100%|██████████| 10/10 [00:00<00:00, 19.99it/s]"
     ]
    },
    {
     "name": "stdout",
     "output_type": "stream",
     "text": [
      "                                                          0         1   \\\n",
      "received block <*> size <*><*>                     -0.188405  0.040160   \n",
      "block name system delete <*> added invalid set     -0.182586  0.045615   \n",
      "receiving block <*>                                -0.174112  0.067341   \n",
      "served block <*>                                    0.022678 -0.014695   \n",
      "block name system allocate block user root <*> ... -0.205622  0.058860   \n",
      "\n",
      "                                                          2         3   \\\n",
      "received block <*> size <*><*>                     -0.033698  0.408059   \n",
      "block name system delete <*> added invalid set      0.024454  0.406457   \n",
      "receiving block <*>                                 0.026797  0.402107   \n",
      "served block <*>                                   -0.025806  0.002967   \n",
      "block name system allocate block user root <*> ... -0.030337  0.435741   \n",
      "\n",
      "                                                          4         5   \\\n",
      "received block <*> size <*><*>                     -0.281741  0.325295   \n",
      "block name system delete <*> added invalid set     -0.292427  0.336317   \n",
      "receiving block <*>                                -0.316379  0.306636   \n",
      "served block <*>                                    0.001577  0.008591   \n",
      "block name system allocate block user root <*> ... -0.317621  0.334677   \n",
      "\n",
      "                                                          6         7   \\\n",
      "received block <*> size <*><*>                     -0.178514 -0.259947   \n",
      "block name system delete <*> added invalid set     -0.173595 -0.265789   \n",
      "receiving block <*>                                -0.165659 -0.280770   \n",
      "served block <*>                                    0.006602 -0.004840   \n",
      "block name system allocate block user root <*> ... -0.166440 -0.282191   \n",
      "\n",
      "                                                          8         9   \\\n",
      "received block <*> size <*><*>                      0.132319 -0.599896   \n",
      "block name system delete <*> added invalid set      0.123880 -0.599784   \n",
      "receiving block <*>                                 0.091294 -0.617935   \n",
      "served block <*>                                   -0.027300 -0.020686   \n",
      "block name system allocate block user root <*> ...  0.081630 -0.599092   \n",
      "\n",
      "                                                          10        11  \\\n",
      "received block <*> size <*><*>                     -0.565288  0.076609   \n",
      "block name system delete <*> added invalid set     -0.562444  0.031073   \n",
      "receiving block <*>                                -0.556486  0.078162   \n",
      "served block <*>                                    0.025470  0.023460   \n",
      "block name system allocate block user root <*> ... -0.528447  0.062629   \n",
      "\n",
      "                                                          12        13  \\\n",
      "received block <*> size <*><*>                      0.144590  0.337487   \n",
      "block name system delete <*> added invalid set      0.080442  0.343489   \n",
      "receiving block <*>                                 0.091661  0.341700   \n",
      "served block <*>                                   -0.002942  0.019089   \n",
      "block name system allocate block user root <*> ...  0.134471  0.286118   \n",
      "\n",
      "                                                          14        15  \n",
      "received block <*> size <*><*>                      0.311948 -0.032742  \n",
      "block name system delete <*> added invalid set      0.302115 -0.025067  \n",
      "receiving block <*>                                 0.307540 -0.030842  \n",
      "served block <*>                                    0.010305  0.027060  \n",
      "block name system allocate block user root <*> ...  0.328244 -0.030368  \n"
     ]
    },
    {
     "name": "stderr",
     "output_type": "stream",
     "text": [
      "\n"
     ]
    }
   ],
   "source": [
    "g_emb = n2v(G, dimensions=16)\n",
    "\n",
    "WINDOW = 1  # Node2Vec fit window\n",
    "MIN_COUNT = 1  # Node2Vec min. count\n",
    "BATCH_WORDS = 4  # Node2Vec batch words\n",
    "\n",
    "mdl = g_emb.fit(window=WINDOW, min_count=MIN_COUNT, batch_words=BATCH_WORDS)\n",
    "\n",
    "emb_df = pd.DataFrame(\n",
    "    [mdl.wv.get_vector(str(n)) for n in G.nodes()], index=list(G.nodes())\n",
    ")\n",
    "\n",
    "\n",
    "emb_df.head()\n",
    "\n",
    "print(emb_df.head())"
   ]
  },
  {
   "cell_type": "code",
   "execution_count": 20,
   "metadata": {},
   "outputs": [
    {
     "name": "stderr",
     "output_type": "stream",
     "text": [
      "Computing transition probabilities: 100%|██████████| 16/16 [00:00<00:00, 4010.81it/s]\n",
      "Generating walks (CPU: 1): 100%|██████████| 10/10 [00:00<00:00, 15.40it/s]"
     ]
    },
    {
     "name": "stdout",
     "output_type": "stream",
     "text": [
      "('got exception while serving <*>', 0.09298992156982422)\n",
      "('block name system allocate block user root rand txt <*> temporary task <*> part <*>', 0.05150969326496124)\n",
      "('block name system allocate block user root rand t<*> emporary task <*> part <*>', 0.03915339708328247)\n",
      "('block name system allocate block user root <*> temporary task <*> part <*>', 0.036455392837524414)\n",
      "('block ask delete <*>', 0.035970523953437805)\n",
      "('received block <*> size <*><*>', 0.0346246063709259)\n",
      "('receiving block <*>', 0.0328524112701416)\n",
      "('block ask replicate <*> data node', 0.03229525685310364)\n",
      "('starting thread transfer block <*>', 0.03185203671455383)\n",
      "('block name system add stored block map updated added <*> size <*>', 0.026392877101898193)\n"
     ]
    },
    {
     "name": "stderr",
     "output_type": "stream",
     "text": [
      "\n"
     ]
    }
   ],
   "source": [
    "WINDOW = 1  # Node2Vec fit window\n",
    "MIN_COUNT = 1  # Node2Vec min. count\n",
    "BATCH_WORDS = 4  # Node2Vec batch words\n",
    "\n",
    "g_emb = n2v(G, dimensions=16)\n",
    "\n",
    "mdl = g_emb.fit(window=WINDOW, min_count=MIN_COUNT, batch_words=BATCH_WORDS)\n",
    "\n",
    "input_node = 'served block <*>'  \n",
    "for s in mdl.wv.most_similar(input_node, topn=10):\n",
    "    print(s)"
   ]
  },
  {
   "cell_type": "code",
   "execution_count": 22,
   "metadata": {},
   "outputs": [
    {
     "name": "stdout",
     "output_type": "stream",
     "text": [
      "StellarGraph: Undirected multigraph\n",
      " Nodes: 16, Edges: 47\n",
      "\n",
      " Node types:\n",
      "  default: [16]\n",
      "    Features: none\n",
      "    Edge types: default-default->default\n",
      "\n",
      " Edge types:\n",
      "    default-default->default: [47]\n",
      "        Weights: all 1 (default)\n",
      "        Features: none\n"
     ]
    }
   ],
   "source": [
    "graph = StellarGraph.from_networkx(G)\n",
    "print(graph.info())"
   ]
  },
  {
   "cell_type": "code",
   "execution_count": 23,
   "metadata": {},
   "outputs": [
    {
     "name": "stdout",
     "output_type": "stream",
     "text": [
      "** Sampled 4 positive and 4 negative edges. **\n",
      "StellarGraph: Undirected multigraph\n",
      " Nodes: 16, Edges: 43\n",
      "\n",
      " Node types:\n",
      "  default: [16]\n",
      "    Features: none\n",
      "    Edge types: default-default->default\n",
      "\n",
      " Edge types:\n",
      "    default-default->default: [43]\n",
      "        Weights: all 1 (default)\n",
      "        Features: none\n"
     ]
    }
   ],
   "source": [
    "# Define an edge splitter on the original graph:\n",
    "edge_splitter_test = EdgeSplitter(graph)\n",
    "\n",
    "# Randomly sample a fraction p=0.1 of all positive links, and same number of negative links, from graph, and obtain the\n",
    "# reduced graph graph_test with the sampled links removed:\n",
    "graph_test, examples_test, labels_test = edge_splitter_test.train_test_split(\n",
    "    p=0.1, method=\"global\"\n",
    ")\n",
    "\n",
    "print(graph_test.info())"
   ]
  },
  {
   "cell_type": "code",
   "execution_count": 24,
   "metadata": {},
   "outputs": [
    {
     "name": "stdout",
     "output_type": "stream",
     "text": [
      "** Sampled 4 positive and 4 negative edges. **\n",
      "StellarGraph: Undirected multigraph\n",
      " Nodes: 16, Edges: 39\n",
      "\n",
      " Node types:\n",
      "  default: [16]\n",
      "    Features: none\n",
      "    Edge types: default-default->default\n",
      "\n",
      " Edge types:\n",
      "    default-default->default: [39]\n",
      "        Weights: all 1 (default)\n",
      "        Features: none\n"
     ]
    }
   ],
   "source": [
    "# Do the same process to compute a training subset from within the test graph\n",
    "edge_splitter_train = EdgeSplitter(graph_test, graph)\n",
    "graph_train, examples, labels = edge_splitter_train.train_test_split(\n",
    "    p=0.1, method=\"global\"\n",
    ")\n",
    "(\n",
    "    examples_train,\n",
    "    examples_model_selection,\n",
    "    labels_train,\n",
    "    labels_model_selection,\n",
    ") = train_test_split(examples, labels, train_size=0.75, test_size=0.25)\n",
    "\n",
    "print(graph_train.info())"
   ]
  },
  {
   "cell_type": "code",
   "execution_count": 25,
   "metadata": {},
   "outputs": [
    {
     "data": {
      "text/html": [
       "<div>\n",
       "<style scoped>\n",
       "    .dataframe tbody tr th:only-of-type {\n",
       "        vertical-align: middle;\n",
       "    }\n",
       "\n",
       "    .dataframe tbody tr th {\n",
       "        vertical-align: top;\n",
       "    }\n",
       "\n",
       "    .dataframe thead th {\n",
       "        text-align: right;\n",
       "    }\n",
       "</style>\n",
       "<table border=\"1\" class=\"dataframe\">\n",
       "  <thead>\n",
       "    <tr style=\"text-align: right;\">\n",
       "      <th></th>\n",
       "      <th>Number of Examples</th>\n",
       "      <th>Hidden from</th>\n",
       "      <th>Picked from</th>\n",
       "      <th>Use</th>\n",
       "    </tr>\n",
       "    <tr>\n",
       "      <th>Split</th>\n",
       "      <th></th>\n",
       "      <th></th>\n",
       "      <th></th>\n",
       "      <th></th>\n",
       "    </tr>\n",
       "  </thead>\n",
       "  <tbody>\n",
       "    <tr>\n",
       "      <th>Training Set</th>\n",
       "      <td>6</td>\n",
       "      <td>Train Graph</td>\n",
       "      <td>Test Graph</td>\n",
       "      <td>Train the Link Classifier</td>\n",
       "    </tr>\n",
       "    <tr>\n",
       "      <th>Model Selection</th>\n",
       "      <td>2</td>\n",
       "      <td>Train Graph</td>\n",
       "      <td>Test Graph</td>\n",
       "      <td>Select the best Link Classifier model</td>\n",
       "    </tr>\n",
       "    <tr>\n",
       "      <th>Test set</th>\n",
       "      <td>8</td>\n",
       "      <td>Test Graph</td>\n",
       "      <td>Full Graph</td>\n",
       "      <td>Evaluate the best Link Classifier</td>\n",
       "    </tr>\n",
       "  </tbody>\n",
       "</table>\n",
       "</div>"
      ],
      "text/plain": [
       "                 Number of Examples  Hidden from Picked from  \\\n",
       "Split                                                          \n",
       "Training Set                      6  Train Graph  Test Graph   \n",
       "Model Selection                   2  Train Graph  Test Graph   \n",
       "Test set                          8   Test Graph  Full Graph   \n",
       "\n",
       "                                                   Use  \n",
       "Split                                                   \n",
       "Training Set                 Train the Link Classifier  \n",
       "Model Selection  Select the best Link Classifier model  \n",
       "Test set             Evaluate the best Link Classifier  "
      ]
     },
     "execution_count": 25,
     "metadata": {},
     "output_type": "execute_result"
    }
   ],
   "source": [
    "pd.DataFrame(\n",
    "    [\n",
    "        (\n",
    "            \"Training Set\",\n",
    "            len(examples_train),\n",
    "            \"Train Graph\",\n",
    "            \"Test Graph\",\n",
    "            \"Train the Link Classifier\",\n",
    "        ),\n",
    "        (\n",
    "            \"Model Selection\",\n",
    "            len(examples_model_selection),\n",
    "            \"Train Graph\",\n",
    "            \"Test Graph\",\n",
    "            \"Select the best Link Classifier model\",\n",
    "        ),\n",
    "        (\n",
    "            \"Test set\",\n",
    "            len(examples_test),\n",
    "            \"Test Graph\",\n",
    "            \"Full Graph\",\n",
    "            \"Evaluate the best Link Classifier\",\n",
    "        ),\n",
    "    ],\n",
    "    columns=(\"Split\", \"Number of Examples\", \"Hidden from\", \"Picked from\", \"Use\"),\n",
    ").set_index(\"Split\")"
   ]
  },
  {
   "cell_type": "code",
   "execution_count": 33,
   "metadata": {},
   "outputs": [],
   "source": [
    "p = 1.0\n",
    "q = 1.0\n",
    "dimensions = 128\n",
    "num_walks = 10\n",
    "walk_length = 80\n",
    "window_size = 10\n",
    "num_iter = 1\n",
    "workers = multiprocessing.cpu_count()"
   ]
  },
  {
   "cell_type": "code",
   "execution_count": 49,
   "metadata": {},
   "outputs": [],
   "source": [
    "# 1. link embeddings\n",
    "def link_examples_to_features(link_examples, transform_node, binary_operator):\n",
    "    return [\n",
    "        binary_operator(transform_node(src), transform_node(dst))\n",
    "        for src, dst in link_examples\n",
    "    ]\n",
    "\n",
    "\n",
    "# 2. training classifier\n",
    "def train_link_prediction_model(\n",
    "    link_examples, link_labels, get_embedding, binary_operator\n",
    "):\n",
    "    clf = link_prediction_classifier()\n",
    "    link_features = link_examples_to_features(\n",
    "        link_examples, get_embedding, binary_operator\n",
    "    )\n",
    "    clf.fit(link_features, link_labels)\n",
    "    return clf\n",
    "\n",
    "\n",
    "def link_prediction_classifier(max_iter=2000):\n",
    "    lr_clf = LogisticRegressionCV(Cs=5, cv=2, scoring=\"roc_auc\", max_iter=max_iter)\n",
    "    return Pipeline(steps=[(\"sc\", StandardScaler()), (\"clf\", lr_clf)])\n",
    "\n",
    "\n",
    "# 3. and 4. evaluate classifier\n",
    "def evaluate_link_prediction_model(\n",
    "    clf, link_examples_test, link_labels_test, get_embedding, binary_operator\n",
    "):\n",
    "    link_features_test = link_examples_to_features(\n",
    "        link_examples_test, get_embedding, binary_operator\n",
    "    )\n",
    "    score = evaluate_roc_auc(clf, link_features_test, link_labels_test)\n",
    "    return score\n",
    "\n",
    "\n",
    "def evaluate_roc_auc(clf, link_features, link_labels):\n",
    "    predicted = clf.predict_proba(link_features)\n",
    "\n",
    "    # check which class corresponds to positive links\n",
    "    positive_column = list(clf.classes_).index(1)\n",
    "    return roc_auc_score(link_labels, predicted[:, positive_column])"
   ]
  },
  {
   "cell_type": "code",
   "execution_count": 41,
   "metadata": {},
   "outputs": [],
   "source": [
    "def node2vec_embedding(graph, name):\n",
    "    rw = BiasedRandomWalk(graph)\n",
    "    walks = rw.run(graph.nodes(), n=num_walks, length=walk_length, p=p, q=q)\n",
    "    print(f\"Number of random walks for '{name}': {len(walks)}\")\n",
    "\n",
    "    model = Word2Vec(\n",
    "        walks,\n",
    "        size=dimensions,\n",
    "        window=window_size,\n",
    "        min_count=0,\n",
    "        sg=1,\n",
    "        workers=workers,\n",
    "        iter=num_iter,\n",
    "    )\n",
    "\n",
    "    def get_embedding(u):\n",
    "        return model.wv[u]\n",
    "\n",
    "    return get_embedding"
   ]
  },
  {
   "cell_type": "code",
   "execution_count": 42,
   "metadata": {},
   "outputs": [
    {
     "name": "stdout",
     "output_type": "stream",
     "text": [
      "Number of random walks for 'Train Graph': 160\n"
     ]
    }
   ],
   "source": [
    "embedding_train = node2vec_embedding(graph_train, \"Train Graph\")"
   ]
  },
  {
   "cell_type": "code",
   "execution_count": 43,
   "metadata": {},
   "outputs": [],
   "source": [
    "def operator_hadamard(u, v):\n",
    "    return u * v\n",
    "\n",
    "\n",
    "def operator_l1(u, v):\n",
    "    return np.abs(u - v)\n",
    "\n",
    "\n",
    "def operator_l2(u, v):\n",
    "    return (u - v) ** 2\n",
    "\n",
    "\n",
    "def operator_avg(u, v):\n",
    "    return (u + v) / 2.0\n",
    "\n",
    "\n",
    "def run_link_prediction(binary_operator):\n",
    "    clf = train_link_prediction_model(\n",
    "        examples_train, labels_train, embedding_train, binary_operator\n",
    "    )\n",
    "    score = evaluate_link_prediction_model(\n",
    "        clf,\n",
    "        examples_model_selection,\n",
    "        labels_model_selection,\n",
    "        embedding_train,\n",
    "        binary_operator,\n",
    "    )\n",
    "\n",
    "    return {\n",
    "        \"classifier\": clf,\n",
    "        \"binary_operator\": binary_operator,\n",
    "        \"score\": score,\n",
    "    }\n",
    "\n",
    "\n",
    "binary_operators = [operator_hadamard, operator_l1, operator_l2, operator_avg]"
   ]
  },
  {
   "cell_type": "code",
   "execution_count": 50,
   "metadata": {},
   "outputs": [
    {
     "name": "stdout",
     "output_type": "stream",
     "text": [
      "Best result from 'operator_hadamard'\n"
     ]
    },
    {
     "data": {
      "text/html": [
       "<div>\n",
       "<style scoped>\n",
       "    .dataframe tbody tr th:only-of-type {\n",
       "        vertical-align: middle;\n",
       "    }\n",
       "\n",
       "    .dataframe tbody tr th {\n",
       "        vertical-align: top;\n",
       "    }\n",
       "\n",
       "    .dataframe thead th {\n",
       "        text-align: right;\n",
       "    }\n",
       "</style>\n",
       "<table border=\"1\" class=\"dataframe\">\n",
       "  <thead>\n",
       "    <tr style=\"text-align: right;\">\n",
       "      <th></th>\n",
       "      <th>ROC AUC score</th>\n",
       "    </tr>\n",
       "    <tr>\n",
       "      <th>name</th>\n",
       "      <th></th>\n",
       "    </tr>\n",
       "  </thead>\n",
       "  <tbody>\n",
       "    <tr>\n",
       "      <th>operator_hadamard</th>\n",
       "      <td>1.0</td>\n",
       "    </tr>\n",
       "    <tr>\n",
       "      <th>operator_l1</th>\n",
       "      <td>1.0</td>\n",
       "    </tr>\n",
       "    <tr>\n",
       "      <th>operator_l2</th>\n",
       "      <td>1.0</td>\n",
       "    </tr>\n",
       "    <tr>\n",
       "      <th>operator_avg</th>\n",
       "      <td>1.0</td>\n",
       "    </tr>\n",
       "  </tbody>\n",
       "</table>\n",
       "</div>"
      ],
      "text/plain": [
       "                   ROC AUC score\n",
       "name                            \n",
       "operator_hadamard            1.0\n",
       "operator_l1                  1.0\n",
       "operator_l2                  1.0\n",
       "operator_avg                 1.0"
      ]
     },
     "execution_count": 50,
     "metadata": {},
     "output_type": "execute_result"
    }
   ],
   "source": [
    "results = [run_link_prediction(op) for op in binary_operators]\n",
    "best_result = max(results, key=lambda result: result[\"score\"])\n",
    "\n",
    "print(f\"Best result from '{best_result['binary_operator'].__name__}'\")\n",
    "\n",
    "pd.DataFrame(\n",
    "    [(result[\"binary_operator\"].__name__, result[\"score\"]) for result in results],\n",
    "    columns=(\"name\", \"ROC AUC score\"),\n",
    ").set_index(\"name\")"
   ]
  },
  {
   "cell_type": "code",
   "execution_count": 51,
   "metadata": {},
   "outputs": [
    {
     "name": "stdout",
     "output_type": "stream",
     "text": [
      "Number of random walks for 'Test Graph': 160\n"
     ]
    }
   ],
   "source": [
    "embedding_test = node2vec_embedding(graph_test, \"Test Graph\")"
   ]
  },
  {
   "cell_type": "code",
   "execution_count": 53,
   "metadata": {},
   "outputs": [
    {
     "name": "stdout",
     "output_type": "stream",
     "text": [
      "ROC AUC score on test set using 'operator_hadamard': 0.5625\n"
     ]
    }
   ],
   "source": [
    "test_score = evaluate_link_prediction_model(\n",
    "    best_result[\"classifier\"],\n",
    "    examples_test,\n",
    "    labels_test,\n",
    "    embedding_test,\n",
    "    best_result[\"binary_operator\"],\n",
    ")\n",
    "print(\n",
    "    f\"ROC AUC score on test set using '{best_result['binary_operator'].__name__}': {test_score}\"\n",
    ")"
   ]
  },
  {
   "cell_type": "code",
   "execution_count": 52,
   "metadata": {},
   "outputs": [
    {
     "data": {
      "text/plain": [
       "<matplotlib.collections.PathCollection at 0x2205ec79048>"
      ]
     },
     "execution_count": 52,
     "metadata": {},
     "output_type": "execute_result"
    },
    {
     "data": {
      "image/png": "[encoded data removed]",
      "text/plain": [
       "<Figure size 1152x864 with 1 Axes>"
      ]
     },
     "metadata": {
      "needs_background": "light"
     },
     "output_type": "display_data"
    }
   ],
   "source": [
    "# Calculate edge features for test data\n",
    "link_features = link_examples_to_features(\n",
    "    examples_test, embedding_test, best_result[\"binary_operator\"]\n",
    ")\n",
    "\n",
    "# Learn a projection from 128 dimensions to 2\n",
    "pca = PCA(n_components=2)\n",
    "X_transformed = pca.fit_transform(link_features)\n",
    "\n",
    "# plot the 2-dimensional points\n",
    "plt.figure(figsize=(16, 12))\n",
    "plt.scatter(\n",
    "    X_transformed[:, 0],\n",
    "    X_transformed[:, 1],\n",
    "    c=np.where(labels_test == 1, \"b\", \"r\"),\n",
    "    alpha=0.5,\n",
    ")"
   ]
  }
 ],
 "metadata": {
  "kernelspec": {
   "display_name": "ame",
   "language": "python",
   "name": "python3"
  },
  "language_info": {
   "codemirror_mode": {
    "name": "ipython",
    "version": 3
   },
   "file_extension": ".py",
   "mimetype": "text/x-python",
   "name": "python",
   "nbconvert_exporter": "python",
   "pygments_lexer": "ipython3",
   "version": "3.7.13"
  },
  "orig_nbformat": 4,
  "vscode": {
   "interpreter": {
    "hash": "5581892b78163d90cdac9a401c899c168932aeca0b48d4f5d5d489e0002d9a6c"
   }
  }
 },
 "nbformat": 4,
 "nbformat_minor": 2
}
