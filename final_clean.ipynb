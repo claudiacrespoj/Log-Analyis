{
 "cells": [
  {
   "cell_type": "code",
   "execution_count": 1,
   "metadata": {},
   "outputs": [],
   "source": [
    "import re\n",
    "import en_core_web_lg  \n",
    "from collections import Counter\n",
    "from collections import defaultdict\n",
    "import pandas as pd\n",
    "import networkx as nx\n",
    "import matplotlib.pyplot as plt\n",
    "import wordninja    \n",
    "import sys\n",
    "import os\n",
    "from datetime import datetime\n",
    "from tqdm import tqdm\n",
    "from collections import Counter\n",
    "from sklearn.feature_extraction.text import CountVectorizer\n",
    "from sklearn.feature_extraction.text import TfidfTransformer\n",
    "from knowledge_layer import KnowledgeGroupLayer\n",
    "from itertools import groupby\n",
    "from collections import Counter\n",
    "import numpy as np\n",
    "from thefuzz import fuzz\n",
    "import itertools \n",
    "\n",
    "input_dir = '../logs/' # The input directory of log file\n",
    "output_dir = 'LogParserResult/' # The output directory of parsing results"
   ]
  },
  {
   "cell_type": "code",
   "execution_count": 2,
   "metadata": {},
   "outputs": [],
   "source": [
    "def remove_repeated(val):\n",
    "  x = val.split(\" \")\n",
    "  str_list = list(filter(None, x))\n",
    "  clean = [i[0] for i in groupby(str_list)]\n",
    "  return ' '.join(clean)\n",
    "\n",
    "def preprocess_document(document):\n",
    "    dic_debug = {}\n",
    "    nlp =en_core_web_lg.load()\n",
    "    # log_list =  [re.sub(r\"[^A-Za-z]+\", ' ', _) for _ in document]\n",
    "    for log in document:\n",
    "        splitted_log = wordninja.split(log)\n",
    "        remove_urls = re.sub('[^ ]+\\.[^ ]+','<*>',' '.join(splitted_log) )\n",
    "        \n",
    "        remove_float = re.sub(\"(\\d*\\.\\d+)|(\\d+\\.[0-9 ]+)\", \"<*>\", remove_urls) \n",
    "        remove_int = re.sub(r'\\d+', \"<*>\", remove_float )\n",
    "        generic_str = re.sub(r'\\b\\w{1,2}\\b', '', remove_int) \n",
    "\n",
    "        dic_debug[log]  = remove_repeated(generic_str)\n",
    "    logs_clean =dic_debug.values()\n",
    "    return logs_clean\n"
   ]
  },
  {
   "cell_type": "code",
   "execution_count": 3,
   "metadata": {},
   "outputs": [],
   "source": [
    "def compute_generic_string(dataset):\n",
    "    # edge case where all strings are the same\n",
    "    if len(set(dataset))==1:\n",
    "        return dataset[0]\n",
    "    commonprefix = os.path.commonprefix(dataset)\n",
    "\n",
    "    return \"{}<*> {}\".format(commonprefix,os.path.commonprefix([s[len(commonprefix):][::-1] for s in dataset])[::-1])"
   ]
  },
  {
   "cell_type": "code",
   "execution_count": 8,
   "metadata": {},
   "outputs": [],
   "source": [
    "def remove_repeated(val):\n",
    "  x = val.split(\" \")\n",
    "  str_list = list(filter(None, x))\n",
    "  clean = [i[0] for i in groupby(str_list)]\n",
    "  return ' '.join(clean)"
   ]
  },
  {
   "cell_type": "code",
   "execution_count": 4,
   "metadata": {},
   "outputs": [
    {
     "name": "stderr",
     "output_type": "stream",
     "text": [
      "processing similar logs: 1it [00:00, ?it/s]"
     ]
    },
    {
     "name": "stdout",
     "output_type": "stream",
     "text": [
      "in wild card step\n"
     ]
    },
    {
     "name": "stderr",
     "output_type": "stream",
     "text": [
      "\n"
     ]
    },
    {
     "data": {
      "text/plain": [
       "[\"Saved output task ' attempt <*> ' hdf <*> test <*> temporary <*> task <*>\",\n",
       " 'Block broadcast <*> stored values memory estimated size <*> free <*>']"
      ]
     },
     "execution_count": 4,
     "metadata": {},
     "output_type": "execute_result"
    }
   ],
   "source": [
    "def transform_wildcard(document):\n",
    "    print(\"in wild card step\")\n",
    "    logs_clean =list(set(document)) #remove repeated logs\n",
    "    \n",
    "    logs_dict = {}\n",
    "    for doc1, doc2 in tqdm(itertools.combinations(logs_clean, 2), desc='processing similar logs'):\n",
    "\n",
    "        pair = [doc1, doc2]\n",
    "        ratio = fuzz.ratio(doc1,doc2)\n",
    "        if ratio > 70:\n",
    "            c = compute_generic_string(pair)\n",
    "            # generic_str = re.sub(r'\\b\\w{1,2}\\b', '', c)\n",
    "            \n",
    "            if c not in logs_dict.values():\n",
    "                p_string = remove_repeated(c)\n",
    "                logs_dict[doc1] = p_string\n",
    "                logs_dict[doc2] = p_string\n",
    "                \n",
    "        else:   \n",
    "            if doc1 not in logs_dict.keys():\n",
    "                logs_dict[doc1] = remove_repeated(doc1)\n",
    "            \n",
    "            if doc2 not in logs_dict.keys():\n",
    "                logs_dict[doc2] = remove_repeated(doc2)\n",
    "        \n",
    "    return list(set(logs_dict.values()))\n",
    "\n",
    "temp = ['Block broadcast_9 stored as values in memory (estimated size 8.8 KB, free 14.0 KB)',\n",
    "'Block broadcast_8 stored as values in memory (estimated size 281.6 KB, free 317.0 KB)',\n",
    "'Block broadcast_2 stored as values in memory (estimated size 384.0 B, free 319.4 KB)',\n",
    "'Block broadcast_12 stored as values in memory (estimated size 9.8 KB, free 369.3 KB)',\n",
    "\"Saved output of task 'attempt_201706092018_0024_m_000003_1012' to hdfs://10.10.34.11:9000/pjhe/test/1/_temporary/0/task_201706092018_0024_m_000003\" ]\n",
    "pdoc = preprocess_document(temp)\n",
    "transform_wildcard(pdoc)"
   ]
  },
  {
   "cell_type": "code",
   "execution_count": 5,
   "metadata": {},
   "outputs": [],
   "source": [
    "def get_relations(document):\n",
    "    \n",
    "    # in our case, relations are bigrams in sentences\n",
    "    bigrams = []\n",
    "    nlp = en_core_web_lg.load()\n",
    "    # for sent in document:\n",
    "\n",
    "    new_dict = {}\n",
    "    for doc1, doc2 in itertools.combinations(document, 2):   \n",
    "        if doc1 != doc2:\n",
    "            pdoc1 = re.sub('[^a-zA-Z0-9]+', ' ', doc1)\n",
    "            pdoc2 = re.sub('[^a-zA-Z0-9]+', ' ', doc2)\n",
    "\n",
    "            pair = [doc1,doc2]\n",
    "            pdoc1 = nlp(pdoc1)\n",
    "            pdoc2 = nlp( pdoc2)\n",
    "        # only add unique bigrams\n",
    "            similarity =pdoc1.similarity(pdoc2) \n",
    "            ratio = fuzz.ratio(doc1,doc2)\n",
    "            print(pair, similarity, ratio)\n",
    "            if similarity > 0.7 or ratio > 70:\n",
    "                \n",
    "                if pair not in bigrams:\n",
    "                    bigrams.append(pair)\n",
    "\n",
    "    return bigrams"
   ]
  },
  {
   "cell_type": "code",
   "execution_count": 6,
   "metadata": {},
   "outputs": [],
   "source": [
    "def load_logs(log_file, regex, headers):\n",
    "    \"\"\" Function to transform log file to dataframe\n",
    "    \"\"\"\n",
    "    log_messages = dict()\n",
    "    linecount = 0\n",
    "    with open(log_file, 'r') as fin:\n",
    "        for line in tqdm(fin.readlines(), desc='load data'):\n",
    "            try:\n",
    "                linecount += 1\n",
    "                match = regex.search(line.strip())\n",
    "                message = dict()\n",
    "                for header in headers:\n",
    "                    message[header] = match.group(header)\n",
    "                message['LineId'] = linecount\n",
    "                log_messages[linecount] = message\n",
    "            except Exception as e:\n",
    "                pass\n",
    "    return log_messages"
   ]
  },
  {
   "cell_type": "code",
   "execution_count": 7,
   "metadata": {},
   "outputs": [],
   "source": [
    "benchmark_settings = {\n",
    "    'HDFS': {\n",
    "        'log_file': 'HDFS/HDFS_2k.log',\n",
    "        'log_format': '<Date> <Time> <Pid> <Level> <Component>: <Content>',\n",
    "        },\n",
    "         'claudia': {\n",
    "        'log_file': 'HDFS/HDFS_2k.log',\n",
    "        'log_format': '<Date> <Time> <Pid> <Level> <Component>: <Content>',\n",
    "        },\n",
    "\n",
    "    'Hadoop': {\n",
    "        'log_file': 'Hadoop/Hadoop_2k.log',\n",
    "        'log_format': '<Date> <Time> <Level> \\[<Process>\\] <Component>: <Content>', \n",
    "        },\n",
    "\n",
    "    'Spark': {\n",
    "        'log_file': 'Spark/Spark_2k.log',\n",
    "        'log_format': '<Date> <Time> <Level> <Component>: <Content>', \n",
    "        },\n",
    "\n",
    "    'Zookeeper': {\n",
    "        'log_file': 'Zookeeper/Zookeeper_2k.log',\n",
    "        'log_format': '<Date> <Time> - <Level>  \\[<Node>:<Component>@<Id>\\] - <Content>',\n",
    "        },\n",
    "\n",
    "    'BGL': {\n",
    "        'log_file': 'BGL/BGL_2k.log',\n",
    "        'log_format': '<Label> <Timestamp> <Date> <Node> <Time> <NodeRepeat> <Type> <Component> <Level> <Content>',\n",
    "        },\n",
    "\n",
    "    'HPC': {\n",
    "        'log_file': 'HPC/HPC_2k.log',\n",
    "        'log_format': '<LogId> <Node> <Component> <State> <Time> <Flag> <Content>',\n",
    "        },\n",
    "\n",
    "    'Thunderbird': {\n",
    "        'log_file': 'Thunderbird/Thunderbird_2k.log',\n",
    "        'log_format': '<Label> <Timestamp> <Date> <User> <Month> <Day> <Time> <Location> <Component>(\\[<PID>\\])?: <Content>',\n",
    "        },\n",
    "\n",
    "    'Windows': {\n",
    "        'log_file': 'Windows/Windows_2k.log',\n",
    "        'log_format': '<Date> <Time>, <Level>                  <Component>    <Content>',\n",
    "        },\n",
    "\n",
    "    'Linux': {\n",
    "        'log_file': 'Linux/Linux_2k.log',\n",
    "        'log_format': '<Month> <Date> <Time> <Level> <Component>(\\[<PID>\\])?: <Content>',\n",
    "        },\n",
    "\n",
    "    'Andriod': {\n",
    "        'log_file': 'Andriod/Andriod_2k.log',\n",
    "        'log_format': '<Date> <Time>  <Pid>  <Tid> <Level> <Component>: <Content>',\n",
    "        },\n",
    "\n",
    "    'HealthApp': {\n",
    "        'log_file': 'HealthApp/HealthApp_2k.log',\n",
    "        'log_format': '<Time>\\|<Component>\\|<Pid>\\|<Content>',\n",
    "        },\n",
    "\n",
    "    'Apache': {\n",
    "        'log_file': 'Apache/Apache_2k.log',\n",
    "        'log_format': '\\[<Time>\\] \\[<Level>\\] <Content>',\n",
    "        },\n",
    "\n",
    "    'Proxifier': {\n",
    "        'log_file': 'Proxifier/Proxifier_2k.log',\n",
    "        'log_format': '\\[<Time>\\] <Program> - <Content>',\n",
    "        },\n",
    "\n",
    "\n",
    "    'OpenSSH': {\n",
    "        'log_file': 'OpenSSH/OpenSSH_2k.log',\n",
    "        'log_format': '<Date> <Day> <Time> <Component> sshd\\[<Pid>\\]: <Content>',\n",
    "        },\n",
    "\n",
    "    'OpenStack': {\n",
    "        'log_file': 'OpenStack/OpenStack_2k.log',\n",
    "        'log_format': '<Logrecord> <Date> <Time> <Pid> <Level> <Component> \\[<ADDR>\\] <Content>',\n",
    "        },\n",
    "        \n",
    "    'Mac': {\n",
    "        'log_file': 'Mac/Mac_2k.log',\n",
    "        'log_format': '<Month>  <Date> <Time> <User> <Component>\\[<PID>\\]( \\(<Address>\\))?: <Content>',\n",
    "        }\n",
    "}"
   ]
  },
  {
   "cell_type": "code",
   "execution_count": 8,
   "metadata": {},
   "outputs": [],
   "source": [
    "def generate_logformat_regex(logformat):\n",
    "    \"\"\" Function to generate regular expression to split log messages\n",
    "    \"\"\"\n",
    "    headers = []\n",
    "    splitters = re.split(r'(<[^<>]+>)', logformat)\n",
    "    regex = ''\n",
    "    for k in range(len(splitters)):\n",
    "        if k % 2 == 0:\n",
    "            splitter = re.sub(' +', '\\\\\\s+', splitters[k])\n",
    "            regex += splitter\n",
    "        else:\n",
    "            header = splitters[k].strip('<').strip('>')\n",
    "            regex += '(?P<%s>.*?)' % header\n",
    "            headers.append(header)\n",
    "    regex = re.compile('^' + regex + '$')\n",
    "    return headers, regex"
   ]
  },
  {
   "cell_type": "code",
   "execution_count": 9,
   "metadata": {},
   "outputs": [],
   "source": [
    "def plot_graph(G, title=None):\n",
    "    # set figure size\n",
    "    plt.figure(figsize=(10,10))\n",
    "\n",
    "    # define position of nodes in figure\n",
    "    # G= nx.convert_node_labels_to_integers(G, first_label=0)\n",
    "\n",
    "    pos = nx.nx_agraph.graphviz_layout(G)\n",
    "    # draw nodes and edges\n",
    "    nx.draw(G, pos=pos, with_labels=True)\n",
    "\n",
    "    # get edge labels (if any)\n",
    "    edge_labels = nx.get_edge_attributes(G, 'weight')\n",
    "\n",
    "    # draw edge labels (if any)\n",
    "    # nx.draw_networkx_nodes(G, pos, edge_labels=edge_labels)\n",
    "    nx.draw_networkx_nodes(G,pos)\n",
    "    # plot the title (if any)\n",
    "    plt.title(dataset+ ' Logs')\n",
    "\n",
    "    plt.show()\n",
    "    return"
   ]
  },
  {
   "cell_type": "code",
   "execution_count": 10,
   "metadata": {},
   "outputs": [],
   "source": [
    "def build_graph(doc):\n",
    "    # preprocess document for standardization\n",
    "    pdoc = preprocess_document(doc)\n",
    "    # get graph nodes\n",
    "    # df = co_occurrence(pdoc, 2)\n",
    "    pdoc = transform_wildcard(pdoc)\n",
    "    \n",
    "    # print(pdoc)\n",
    "    # get graph edges\n",
    "    if '<*>' in pdoc:\n",
    "        pdoc.remove('<*>')\n",
    "    edges = get_relations(pdoc)\n",
    "    # nodes = log_transformer(pdoc)\n",
    "    # create graph structure with NetworkX\n",
    "    G = nx.Graph()\n",
    "    G.add_nodes_from(pdoc )\n",
    "    atrributes = Counter(pdoc)\n",
    "    nx.set_node_attributes(G, atrributes, \"count\")\n",
    "    # G.remove_node('idf_weights')\n",
    "    G.add_edges_from(edges)\n",
    "    G.remove_edges_from(nx.selfloop_edges(G))\n",
    "    \n",
    "    return G"
   ]
  },
  {
   "cell_type": "code",
   "execution_count": 11,
   "metadata": {},
   "outputs": [
    {
     "name": "stderr",
     "output_type": "stream",
     "text": [
      "load data: 100%|██████████| 2000/2000 [00:00<00:00, 160256.15it/s]\n",
      "priori knowledge preprocess: 100%|██████████| 2000/2000 [00:00<00:00, 33429.67it/s]"
     ]
    },
    {
     "name": "stdout",
     "output_type": "stream",
     "text": [
      "Parsing file: ../../logs/HDFS/HDFS_2k.log\n",
      "Knowledge group layer finished.\n"
     ]
    },
    {
     "name": "stderr",
     "output_type": "stream",
     "text": [
      "\n",
      "processing similar logs: 190it [00:00, 184856.82it/s]"
     ]
    },
    {
     "name": "stdout",
     "output_type": "stream",
     "text": [
      "in wild card step\n"
     ]
    },
    {
     "name": "stderr",
     "output_type": "stream",
     "text": [
      "\n"
     ]
    },
    {
     "name": "stdout",
     "output_type": "stream",
     "text": [
      "['Starting thread transfer block <*>', 'BLOCK ask replicate <*> data node'] 0.5369961783798238 33\n",
      "['Starting thread transfer block <*>', 'Deleting block <*> file had oop data current <*>'] 0.7161886977483173 41\n",
      "['Starting thread transfer block <*>', 'BLOCK ask delete <*>'] 0.20940358762679867 33\n",
      "['Starting thread transfer block <*>', 'BLOCK Name System add Stored Block block Map updated added <*> size <*>'] 0.6040143590974598 38\n",
      "['Starting thread transfer block <*>', 'Packet Responder <*> for block <*> terminating'] 0.7719083311156957 45\n",
      "['Starting thread transfer block <*>', 'Got exception while serving <*>'] 0.5325208420937951 46\n",
      "['Starting thread transfer block <*>', 'Received block <*> size <*><*>'] 0.6693729174900706 41\n",
      "['Starting thread transfer block <*>', 'BLOCK Name System allocate Block user root rand txt <*> temporary task <*> part <*>'] 0.6927816364110692 34\n",
      "['Starting thread transfer block <*>', 'BLOCK Name System delete <*> added invalid Set'] 0.4540783721901345 28\n",
      "['Starting thread transfer block <*>', 'BLOCK Name System allocate Block user root rand <*> temporary task <*> part <*>'] 0.6925434168173346 35\n",
      "['Starting thread transfer block <*>', 'BLOCK Name System allocate Block user root <*> temporary task <*> part <*>'] 0.6827504974756505 33\n",
      "['Starting thread transfer block <*>', 'Verification succeeded for <*>'] 0.5407130794486746 44\n",
      "['Starting thread transfer block <*>', 'Served block <*>'] 0.6658548188931729 56\n",
      "['Starting thread transfer block <*>', 'Receiving block <*>'] 0.8360729465211137 49\n",
      "['BLOCK ask replicate <*> data node', 'Deleting block <*> file had oop data current <*>'] 0.7310738128247461 37\n",
      "['BLOCK ask replicate <*> data node', 'BLOCK ask delete <*>'] 0.6587974675543314 68\n",
      "['BLOCK ask replicate <*> data node', 'BLOCK Name System add Stored Block block Map updated added <*> size <*>'] 0.4653483446540205 42\n",
      "['BLOCK ask replicate <*> data node', 'Packet Responder <*> for block <*> terminating'] 0.46401467993241174 38\n",
      "['BLOCK ask replicate <*> data node', 'Got exception while serving <*>'] 0.20169907534302903 28\n",
      "['BLOCK ask replicate <*> data node', 'Received block <*> size <*><*>'] 0.4103822450259882 29\n",
      "['BLOCK ask replicate <*> data node', 'BLOCK Name System allocate Block user root rand txt <*> temporary task <*> part <*>'] 0.6278373001071772 40\n",
      "['BLOCK ask replicate <*> data node', 'BLOCK Name System delete <*> added invalid Set'] 0.43275763372791304 58\n",
      "['BLOCK ask replicate <*> data node', 'BLOCK Name System allocate Block user root rand <*> temporary task <*> part <*>'] 0.6225100665569959 41\n",
      "['BLOCK ask replicate <*> data node', 'BLOCK Name System allocate Block user root <*> temporary task <*> part <*>'] 0.607666775769769 43\n",
      "['BLOCK ask replicate <*> data node', 'Verification succeeded for <*>'] 0.3459725320214633 32\n",
      "['BLOCK ask replicate <*> data node', 'Served block <*>'] 0.29840574813760096 33\n",
      "['BLOCK ask replicate <*> data node', 'Receiving block <*>'] 0.43637370489739347 27\n",
      "['Deleting block <*> file had oop data current <*>', 'BLOCK ask delete <*>'] 0.30054531104691645 32\n",
      "['Deleting block <*> file had oop data current <*>', 'BLOCK Name System add Stored Block block Map updated added <*> size <*>'] 0.5111644745214966 40\n",
      "['Deleting block <*> file had oop data current <*>', 'Packet Responder <*> for block <*> terminating'] 0.6531844039080682 38\n",
      "['Deleting block <*> file had oop data current <*>', 'Got exception while serving <*>'] 0.45336888923240914 41\n",
      "['Deleting block <*> file had oop data current <*>', 'Received block <*> size <*><*>'] 0.5478006871705436 51\n",
      "['Deleting block <*> file had oop data current <*>', 'BLOCK Name System allocate Block user root rand txt <*> temporary task <*> part <*>'] 0.6826901147753539 38\n",
      "['Deleting block <*> file had oop data current <*>', 'BLOCK Name System delete <*> added invalid Set'] 0.4176573515879069 34\n",
      "['Deleting block <*> file had oop data current <*>', 'BLOCK Name System allocate Block user root rand <*> temporary task <*> part <*>'] 0.6701505407502062 39\n",
      "['Deleting block <*> file had oop data current <*>', 'BLOCK Name System allocate Block user root <*> temporary task <*> part <*>'] 0.6568031574829266 41\n",
      "['Deleting block <*> file had oop data current <*>', 'Verification succeeded for <*>'] 0.546639012410067 38\n",
      "['Deleting block <*> file had oop data current <*>', 'Served block <*>'] 0.47335716406088724 38\n",
      "['Deleting block <*> file had oop data current <*>', 'Receiving block <*>'] 0.6420382237865034 45\n",
      "['BLOCK ask delete <*>', 'BLOCK Name System add Stored Block block Map updated added <*> size <*>'] 0.2551926169632369 40\n",
      "['BLOCK ask delete <*>', 'Packet Responder <*> for block <*> terminating'] 0.17057708268120264 30\n",
      "['BLOCK ask delete <*>', 'Got exception while serving <*>'] -0.0247791926529331 35\n",
      "['BLOCK ask delete <*>', 'Received block <*> size <*><*>'] 0.1614592402802646 32\n",
      "['BLOCK ask delete <*>', 'BLOCK Name System allocate Block user root rand txt <*> temporary task <*> part <*>'] 0.272972539936259 35\n",
      "['BLOCK ask delete <*>', 'BLOCK Name System delete <*> added invalid Set'] 0.3295429980342006 58\n",
      "['BLOCK ask delete <*>', 'BLOCK Name System allocate Block user root rand <*> temporary task <*> part <*>'] 0.2628345636290262 36\n",
      "['BLOCK ask delete <*>', 'BLOCK Name System allocate Block user root <*> temporary task <*> part <*>'] 0.25788500310268886 38\n",
      "['BLOCK ask delete <*>', 'Verification succeeded for <*>'] 0.09044201872838582 36\n",
      "['BLOCK ask delete <*>', 'Served block <*>'] 0.10641267518379073 33\n",
      "['BLOCK ask delete <*>', 'Receiving block <*>'] 0.1924297041707757 31\n",
      "['BLOCK Name System add Stored Block block Map updated added <*> size <*>', 'Packet Responder <*> for block <*> terminating'] 0.5960414473919239 36\n",
      "['BLOCK Name System add Stored Block block Map updated added <*> size <*>', 'Got exception while serving <*>'] 0.2962803383293677 29\n",
      "['BLOCK Name System add Stored Block block Map updated added <*> size <*>', 'Received block <*> size <*><*>'] 0.7040115264979107 46\n",
      "['BLOCK Name System add Stored Block block Map updated added <*> size <*>', 'BLOCK Name System allocate Block user root rand txt <*> temporary task <*> part <*>'] 0.6845447623282475 58\n",
      "['BLOCK Name System add Stored Block block Map updated added <*> size <*>', 'BLOCK Name System delete <*> added invalid Set'] 0.8178007616629113 55\n",
      "['BLOCK Name System add Stored Block block Map updated added <*> size <*>', 'BLOCK Name System allocate Block user root rand <*> temporary task <*> part <*>'] 0.6782702220629311 60\n",
      "['BLOCK Name System add Stored Block block Map updated added <*> size <*>', 'BLOCK Name System allocate Block user root <*> temporary task <*> part <*>'] 0.6833335592077805 61\n",
      "['BLOCK Name System add Stored Block block Map updated added <*> size <*>', 'Verification succeeded for <*>'] 0.4032351946380266 32\n",
      "['BLOCK Name System add Stored Block block Map updated added <*> size <*>', 'Served block <*>'] 0.6168295562158753 34\n",
      "['BLOCK Name System add Stored Block block Map updated added <*> size <*>', 'Receiving block <*>'] 0.6127871913528383 27\n",
      "['Packet Responder <*> for block <*> terminating', 'Got exception while serving <*>'] 0.5855629630749665 36\n",
      "['Packet Responder <*> for block <*> terminating', 'Received block <*> size <*><*>'] 0.6211152162722239 42\n",
      "['Packet Responder <*> for block <*> terminating', 'BLOCK Name System allocate Block user root rand txt <*> temporary task <*> part <*>'] 0.7040737785814326 39\n",
      "['Packet Responder <*> for block <*> terminating', 'BLOCK Name System delete <*> added invalid Set'] 0.47994016500372333 37\n",
      "['Packet Responder <*> for block <*> terminating', 'BLOCK Name System allocate Block user root rand <*> temporary task <*> part <*>'] 0.7084756193218295 40\n",
      "['Packet Responder <*> for block <*> terminating', 'BLOCK Name System allocate Block user root <*> temporary task <*> part <*>'] 0.6987400991483543 40\n",
      "['Packet Responder <*> for block <*> terminating', 'Verification succeeded for <*>'] 0.8367384687914234 37\n",
      "['Packet Responder <*> for block <*> terminating', 'Served block <*>'] 0.6276977838189094 42\n",
      "['Packet Responder <*> for block <*> terminating', 'Receiving block <*>'] 0.8024902633485758 40\n",
      "['Got exception while serving <*>', 'Received block <*> size <*><*>'] 0.4078792457984766 43\n",
      "['Got exception while serving <*>', 'BLOCK Name System allocate Block user root rand txt <*> temporary task <*> part <*>'] 0.4052900013015687 28\n",
      "['Got exception while serving <*>', 'BLOCK Name System delete <*> added invalid Set'] 0.1481489668660659 29\n",
      "['Got exception while serving <*>', 'BLOCK Name System allocate Block user root rand <*> temporary task <*> part <*>'] 0.4105967161125861 29\n",
      "['Got exception while serving <*>', 'BLOCK Name System allocate Block user root <*> temporary task <*> part <*>'] 0.4063489045690321 29\n",
      "['Got exception while serving <*>', 'Verification succeeded for <*>'] 0.5877019390463593 46\n",
      "['Got exception while serving <*>', 'Served block <*>'] 0.45608503557135865 34\n",
      "['Got exception while serving <*>', 'Receiving block <*>'] 0.5188312832673633 48\n",
      "['Received block <*> size <*><*>', 'BLOCK Name System allocate Block user root rand txt <*> temporary task <*> part <*>'] 0.5661133967885029 37\n",
      "['Received block <*> size <*><*>', 'BLOCK Name System delete <*> added invalid Set'] 0.44169010919466556 29\n",
      "['Received block <*> size <*><*>', 'BLOCK Name System allocate Block user root rand <*> temporary task <*> part <*>'] 0.5625132348230463 39\n",
      "['Received block <*> size <*><*>', 'BLOCK Name System allocate Block user root <*> temporary task <*> part <*>'] 0.5511520194399154 40\n",
      "['Received block <*> size <*><*>', 'Verification succeeded for <*>'] 0.414974733134066 37\n",
      "['Received block <*> size <*><*>', 'Served block <*>'] 0.6354728781023793 61\n",
      "['Received block <*> size <*><*>', 'Receiving block <*>'] 0.7337560518841668 65\n",
      "['BLOCK Name System allocate Block user root rand txt <*> temporary task <*> part <*>', 'BLOCK Name System delete <*> added invalid Set'] 0.6650645136489268 50\n",
      "['BLOCK Name System allocate Block user root rand txt <*> temporary task <*> part <*>', 'BLOCK Name System allocate Block user root rand <*> temporary task <*> part <*>'] 0.9976144895576198 98\n",
      "['BLOCK Name System allocate Block user root rand txt <*> temporary task <*> part <*>', 'BLOCK Name System allocate Block user root <*> temporary task <*> part <*>'] 0.9909051739349704 94\n",
      "['BLOCK Name System allocate Block user root rand txt <*> temporary task <*> part <*>', 'Verification succeeded for <*>'] 0.5856099323236477 28\n",
      "['BLOCK Name System allocate Block user root rand txt <*> temporary task <*> part <*>', 'Served block <*>'] 0.5019050655342969 24\n",
      "['BLOCK Name System allocate Block user root rand txt <*> temporary task <*> part <*>', 'Receiving block <*>'] 0.6350657500352053 24\n",
      "['BLOCK Name System delete <*> added invalid Set', 'BLOCK Name System allocate Block user root rand <*> temporary task <*> part <*>'] 0.6607732798086464 51\n",
      "['BLOCK Name System delete <*> added invalid Set', 'BLOCK Name System allocate Block user root <*> temporary task <*> part <*>'] 0.6757726188918384 53\n",
      "['BLOCK Name System delete <*> added invalid Set', 'Verification succeeded for <*>'] 0.33839952703309994 26\n",
      "['BLOCK Name System delete <*> added invalid Set', 'Served block <*>'] 0.45221135915975086 26\n",
      "['BLOCK Name System delete <*> added invalid Set', 'Receiving block <*>'] 0.45697485792660314 25\n",
      "['BLOCK Name System allocate Block user root rand <*> temporary task <*> part <*>', 'BLOCK Name System allocate Block user root <*> temporary task <*> part <*>'] 0.9929840629897737 97\n",
      "['BLOCK Name System allocate Block user root rand <*> temporary task <*> part <*>', 'Verification succeeded for <*>'] 0.590347084472878 29\n",
      "['BLOCK Name System allocate Block user root rand <*> temporary task <*> part <*>', 'Served block <*>'] 0.5018739110649467 25\n",
      "['BLOCK Name System allocate Block user root rand <*> temporary task <*> part <*>', 'Receiving block <*>'] 0.6359887166083753 24\n",
      "['BLOCK Name System allocate Block user root <*> temporary task <*> part <*>', 'Verification succeeded for <*>'] 0.5785718508389159 29\n",
      "['BLOCK Name System allocate Block user root <*> temporary task <*> part <*>', 'Served block <*>'] 0.5026952887364851 27\n",
      "['BLOCK Name System allocate Block user root <*> temporary task <*> part <*>', 'Receiving block <*>'] 0.6271733915551738 26\n",
      "['Verification succeeded for <*>', 'Served block <*>'] 0.3688521884447307 43\n",
      "['Verification succeeded for <*>', 'Receiving block <*>'] 0.5280660624641987 41\n",
      "['Served block <*>', 'Receiving block <*>'] 0.7672217845157215 69\n"
     ]
    }
   ],
   "source": [
    "from knowledge_layer import KnowledgeGroupLayer\n",
    "dataset = 'HDFS'\n",
    "filepath = '../../logs/'+ benchmark_settings[dataset]['log_file']\n",
    "print('Parsing file: ' + filepath)\n",
    "starttime = datetime.now()\n",
    "headers, regex = generate_logformat_regex(benchmark_settings[dataset]['log_format'])\n",
    "log_messages = load_logs(filepath, regex, headers)\n",
    "log_messages = KnowledgeGroupLayer(log_messages).run()\n",
    "# log_messages = DictGroupLayer(log_messages).run()\n",
    "# preprocess layer\n",
    "list_dict = log_messages.values()\n",
    "empty_dict = {}\n",
    "logs = [d.get('Content', None) for d in list_dict]\n",
    "\n",
    "# print(logs[0:2])\n",
    "G = build_graph(logs)\n"
   ]
  },
  {
   "cell_type": "code",
   "execution_count": 12,
   "metadata": {},
   "outputs": [
    {
     "data": {
      "image/png": "[encoded data removed]",
      "text/plain": [
       "<Figure size 720x720 with 1 Axes>"
      ]
     },
     "metadata": {},
     "output_type": "display_data"
    }
   ],
   "source": [
    "plot_graph(G)"
   ]
  },
  {
   "cell_type": "code",
   "execution_count": 13,
   "metadata": {},
   "outputs": [],
   "source": [
    "nx.write_gpickle(G,dataset+'sim.gpickle')"
   ]
  },
  {
   "cell_type": "code",
   "execution_count": 14,
   "metadata": {},
   "outputs": [
    {
     "data": {
      "image/png": "[encoded data removed]",
      "text/plain": [
       "<Figure size 576x576 with 3 Axes>"
      ]
     },
     "metadata": {
      "needs_background": "light"
     },
     "output_type": "display_data"
    }
   ],
   "source": [
    "\n",
    "degree_sequence = sorted((d for n, d in G.degree()), reverse=True)\n",
    "dmax = max(degree_sequence)\n",
    "\n",
    "fig = plt.figure(\"Degree of graph\", figsize=(8, 8))\n",
    "# Create a gridspec for adding subplots of different sizes\n",
    "axgrid = fig.add_gridspec(5, 4)\n",
    "\n",
    "ax0 = fig.add_subplot(axgrid[0:3, :])\n",
    "Gcc = G.subgraph(sorted(nx.connected_components(G), key=len, reverse=True)[0])\n",
    "pos = nx.spring_layout(Gcc, seed=10396953)\n",
    "nx.draw_networkx_nodes(Gcc, pos, ax=ax0, node_size=20)\n",
    "nx.draw_networkx_edges(Gcc, pos, ax=ax0, alpha=0.4)\n",
    "ax0.set_title(\"Connected components of G\")\n",
    "ax0.set_axis_off()\n",
    "\n",
    "ax1 = fig.add_subplot(axgrid[3:, :2])\n",
    "ax1.plot(degree_sequence, \"b-\", marker=\"o\")\n",
    "ax1.set_title(\"Degree Rank Plot\")\n",
    "ax1.set_ylabel(\"Degree\")\n",
    "ax1.set_xlabel(\"Rank\")\n",
    "\n",
    "ax2 = fig.add_subplot(axgrid[3:, 2:])\n",
    "ax2.bar(*np.unique(degree_sequence, return_counts=True))\n",
    "ax2.set_title(\"Degree histogram\")\n",
    "ax2.set_xlabel(\"Degree\")\n",
    "ax2.set_ylabel(\"# of Nodes\")\n",
    "\n",
    "fig.tight_layout()\n",
    "plt.show()"
   ]
  },
  {
   "cell_type": "code",
   "execution_count": 16,
   "metadata": {},
   "outputs": [
    {
     "data": {
      "text/plain": [
       "frozenset({'BLOCK Name System allocate Block user root <*> temporary task <*> part <*>',\n",
       "           'BLOCK Name System allocate Block user root rand <*> temporary task <*> part <*>',\n",
       "           'BLOCK Name System allocate Block user root rand txt <*> temporary task <*> part <*>',\n",
       "           'Packet Responder <*> for block <*> terminating',\n",
       "           'Verification succeeded for <*>'})"
      ]
     },
     "execution_count": 16,
     "metadata": {},
     "output_type": "execute_result"
    }
   ],
   "source": [
    "from networkx.algorithms.community import greedy_modularity_communities\n",
    "c = greedy_modularity_communities(G)\n",
    "c[0]"
   ]
  },
  {
   "cell_type": "code",
   "execution_count": 17,
   "metadata": {},
   "outputs": [
    {
     "data": {
      "image/png": "[encoded data removed]",
      "text/plain": [
       "<Figure size 576x576 with 1 Axes>"
      ]
     },
     "metadata": {},
     "output_type": "display_data"
    }
   ],
   "source": [
    "\n",
    "# list of detected communities \n",
    "c = list(greedy_modularity_communities(G))\n",
    "sortedCommunities = []\n",
    "\n",
    "# iterate through list of discovered communities. Sort each community and add them to new list.\n",
    "\n",
    "for community in c:\n",
    "    sortedCommunities.append(sorted(community))\n",
    "\n",
    "# draw community\n",
    "# here we are using a different color at each iteration but cycling back to the first color.\n",
    "\n",
    "community_to_color = {\n",
    "    0 : 'tab:blue',\n",
    "    1 : 'tab:orange',\n",
    "    2 : 'tab:green',\n",
    "    3 : 'tab:red',\n",
    "}\n",
    "temp_counter = 0\n",
    "pos = nx.nx_agraph.graphviz_layout(G)\n",
    "# color = [subset_color[data[\"layer\"]] for v, data in G.nodes(data=True)]\n",
    "# pos = nx.multipartite_layout(G, subset_key=\"layer\")\n",
    "plt.figure(figsize=(8, 8))\n",
    "for community in sortedCommunities:\n",
    "    \n",
    "    chosenColor = community_to_color[temp_counter%3]\n",
    "    temp_counter += 1\n",
    "    nx.draw_networkx_nodes(G,pos, nodelist=community ,label=True, node_color=chosenColor , alpha=0.9)\n",
    "    nx.draw_networkx_edges(G,pos ,alpha=0.5)\n",
    "plt.show()"
   ]
  },
  {
   "cell_type": "code",
   "execution_count": 18,
   "metadata": {},
   "outputs": [
    {
     "data": {
      "text/plain": [
       "[['BLOCK Name System allocate Block user root <*> temporary task <*> part <*>',\n",
       "  'BLOCK Name System allocate Block user root rand <*> temporary task <*> part <*>',\n",
       "  'BLOCK Name System allocate Block user root rand txt <*> temporary task <*> part <*>',\n",
       "  'Packet Responder <*> for block <*> terminating',\n",
       "  'Verification succeeded for <*>'],\n",
       " ['BLOCK Name System add Stored Block block Map updated added <*> size <*>',\n",
       "  'BLOCK Name System delete <*> added invalid Set',\n",
       "  'Received block <*> size <*><*>',\n",
       "  'Receiving block <*>',\n",
       "  'Served block <*>'],\n",
       " ['BLOCK ask replicate <*> data node',\n",
       "  'Deleting block <*> file had oop data current <*>',\n",
       "  'Starting thread transfer block <*>'],\n",
       " ['BLOCK ask delete <*>'],\n",
       " ['Got exception while serving <*>']]"
      ]
     },
     "execution_count": 18,
     "metadata": {},
     "output_type": "execute_result"
    }
   ],
   "source": [
    "sortedCommunities"
   ]
  },
  {
   "cell_type": "code",
   "execution_count": 19,
   "metadata": {},
   "outputs": [
    {
     "name": "stdout",
     "output_type": "stream",
     "text": [
      "Graph with 15 nodes and 15 edges\n"
     ]
    }
   ],
   "source": [
    "print(nx.info(G))"
   ]
  },
  {
   "cell_type": "code",
   "execution_count": 20,
   "metadata": {},
   "outputs": [
    {
     "name": "stderr",
     "output_type": "stream",
     "text": [
      "Computing transition probabilities: 100%|██████████| 15/15 [00:00<00:00, 7518.47it/s]\n",
      "Generating walks (CPU: 1): 100%|██████████| 10/10 [00:00<00:00, 26.70it/s]\n"
     ]
    },
    {
     "name": "stdout",
     "output_type": "stream",
     "text": [
      "                                                          0         1   \\\n",
      "Starting thread transfer block <*>                  0.193400  0.758613   \n",
      "BLOCK ask replicate <*> data node                   0.221567  0.834394   \n",
      "Deleting block <*> file had oop data current <*>    0.185579  0.806691   \n",
      "BLOCK ask delete <*>                               -0.006290 -0.028005   \n",
      "BLOCK Name System add Stored Block block Map up...  0.739139  0.943896   \n",
      "\n",
      "                                                          2         3   \\\n",
      "Starting thread transfer block <*>                  0.369111 -0.009556   \n",
      "BLOCK ask replicate <*> data node                   0.429144 -0.182849   \n",
      "Deleting block <*> file had oop data current <*>    0.467003 -0.132159   \n",
      "BLOCK ask delete <*>                               -0.004316 -0.019027   \n",
      "BLOCK Name System add Stored Block block Map up...  0.067901 -0.425514   \n",
      "\n",
      "                                                          4         5   \\\n",
      "Starting thread transfer block <*>                  0.223224 -0.497210   \n",
      "BLOCK ask replicate <*> data node                   0.092229 -0.485866   \n",
      "Deleting block <*> file had oop data current <*>    0.105066 -0.457517   \n",
      "BLOCK ask delete <*>                                0.024360 -0.020461   \n",
      "BLOCK Name System add Stored Block block Map up...  0.592863 -1.039714   \n",
      "\n",
      "                                                          6         7   \\\n",
      "Starting thread transfer block <*>                 -0.224830 -0.026567   \n",
      "BLOCK ask replicate <*> data node                  -0.272375 -0.122177   \n",
      "Deleting block <*> file had oop data current <*>   -0.288468 -0.130478   \n",
      "BLOCK ask delete <*>                                0.022682  0.026621   \n",
      "BLOCK Name System add Stored Block block Map up...  0.578267 -0.037654   \n",
      "\n",
      "                                                          8         9   \\\n",
      "Starting thread transfer block <*>                  0.017388 -0.319909   \n",
      "BLOCK ask replicate <*> data node                  -0.047140 -0.403479   \n",
      "Deleting block <*> file had oop data current <*>   -0.026212 -0.408358   \n",
      "BLOCK ask delete <*>                               -0.010605  0.017241   \n",
      "BLOCK Name System add Stored Block block Map up... -0.097119  0.061791   \n",
      "\n",
      "                                                          10        11  \\\n",
      "Starting thread transfer block <*>                  0.270715  0.163792   \n",
      "BLOCK ask replicate <*> data node                   0.298037  0.138414   \n",
      "Deleting block <*> file had oop data current <*>    0.325489  0.155269   \n",
      "BLOCK ask delete <*>                                0.005421 -0.031020   \n",
      "BLOCK Name System add Stored Block block Map up... -0.380472 -0.210953   \n",
      "\n",
      "                                                          12        13  \\\n",
      "Starting thread transfer block <*>                  0.069885  0.167861   \n",
      "BLOCK ask replicate <*> data node                   0.022099  0.016955   \n",
      "Deleting block <*> file had oop data current <*>    0.033819  0.041028   \n",
      "BLOCK ask delete <*>                                0.017968  0.003629   \n",
      "BLOCK Name System add Stored Block block Map up...  0.342292 -0.093939   \n",
      "\n",
      "                                                          14        15  \n",
      "Starting thread transfer block <*>                 -0.259971 -0.286915  \n",
      "BLOCK ask replicate <*> data node                  -0.410007 -0.276503  \n",
      "Deleting block <*> file had oop data current <*>   -0.402311 -0.324969  \n",
      "BLOCK ask delete <*>                                0.006353 -0.010578  \n",
      "BLOCK Name System add Stored Block block Map up... -0.239691 -0.254279  \n"
     ]
    }
   ],
   "source": [
    "from node2vec import Node2Vec as n2v\n",
    "\n",
    "g_emb = n2v(G, dimensions=16)\n",
    "\n",
    "WINDOW = 1 # Node2Vec fit window\n",
    "MIN_COUNT = 1 # Node2Vec min. count\n",
    "BATCH_WORDS = 4 # Node2Vec batch words\n",
    "\n",
    "mdl = g_emb.fit(\n",
    "    window=WINDOW,\n",
    "    min_count=MIN_COUNT,\n",
    "    batch_words=BATCH_WORDS\n",
    ")\n",
    "\n",
    "emb_df = (\n",
    "    pd.DataFrame(\n",
    "        [mdl.wv.get_vector(str(n)) for n in G.nodes()],\n",
    "        index = list(G.nodes())\n",
    "    )\n",
    ")\n",
    "\n",
    "\n",
    "emb_df.head()\n",
    "\n",
    "print(emb_df.head())"
   ]
  },
  {
   "cell_type": "code",
   "execution_count": 21,
   "metadata": {},
   "outputs": [
    {
     "name": "stderr",
     "output_type": "stream",
     "text": [
      "Computing transition probabilities: 100%|██████████| 15/15 [00:00<00:00, 7513.08it/s]\n",
      "Generating walks (CPU: 1): 100%|██████████| 10/10 [00:00<00:00, 23.90it/s]\n"
     ]
    },
    {
     "name": "stdout",
     "output_type": "stream",
     "text": [
      "('Deleting block <*> file had oop data current <*>', 0.9950016140937805)\n",
      "('Starting thread transfer block <*>', 0.917259931564331)\n",
      "('Receiving block <*>', 0.8216996192932129)\n",
      "('Verification succeeded for <*>', 0.8030728101730347)\n",
      "('Packet Responder <*> for block <*> terminating', 0.7662699222564697)\n",
      "('Served block <*>', 0.7466951012611389)\n",
      "('BLOCK Name System allocate Block user root rand <*> temporary task <*> part <*>', 0.6140590906143188)\n",
      "('BLOCK Name System allocate Block user root <*> temporary task <*> part <*>', 0.6032751202583313)\n",
      "('BLOCK Name System allocate Block user root rand txt <*> temporary task <*> part <*>', 0.600222110748291)\n",
      "('Received block <*> size <*><*>', 0.5369808077812195)\n"
     ]
    }
   ],
   "source": [
    "WINDOW = 1 # Node2Vec fit window\n",
    "MIN_COUNT = 1 # Node2Vec min. count\n",
    "BATCH_WORDS = 4 # Node2Vec batch words\n",
    "\n",
    "g_emb = n2v(\n",
    "  G,\n",
    "  dimensions=16\n",
    ")\n",
    "\n",
    "mdl = g_emb.fit(\n",
    "    window=WINDOW,\n",
    "    min_count=MIN_COUNT,\n",
    "    batch_words=BATCH_WORDS\n",
    ")\n",
    "\n",
    "input_node = 'BLOCK ask replicate <*> data node'\n",
    "for s in mdl.wv.most_similar(input_node, topn = 10):\n",
    "    print(s)"
   ]
  },
  {
   "cell_type": "code",
   "execution_count": 118,
   "metadata": {},
   "outputs": [
    {
     "data": {
      "text/plain": [
       "[]"
      ]
     },
     "execution_count": 118,
     "metadata": {},
     "output_type": "execute_result"
    },
    {
     "data": {
      "text/plain": [
       "<Figure size 432x288 with 0 Axes>"
      ]
     },
     "metadata": {},
     "output_type": "display_data"
    },
    {
     "data": {
      "image/png": "[encoded data removed]",
      "text/plain": [
       "<Figure size 432x288 with 1 Axes>"
      ]
     },
     "metadata": {
      "needs_background": "light"
     },
     "output_type": "display_data"
    }
   ],
   "source": [
    "from sklearn.decomposition import PCA\n",
    "\n",
    "pca = PCA(n_components = 2, random_state = 7)\n",
    "pca_mdl = pca.fit_transform(emb_df)\n",
    "\n",
    "emb_df_PCA = (\n",
    "    pd.DataFrame(\n",
    "        pca_mdl,\n",
    "        columns=['x','y'],\n",
    "        index = emb_df.index\n",
    "    )\n",
    ")\n",
    "plt.clf()\n",
    "fig = plt.figure(figsize=(6,4))\n",
    "plt.scatter(\n",
    "    x = emb_df_PCA['x'],\n",
    "    y = emb_df_PCA['y'],\n",
    "    s = 0.4,\n",
    "    color = 'maroon',\n",
    "    alpha = 0.5\n",
    ")\n",
    "plt.xlabel('PCA-1')\n",
    "plt.ylabel('PCA-2')\n",
    "plt.title('PCA Visualization')\n",
    "plt.plot()"
   ]
  },
  {
   "cell_type": "code",
   "execution_count": 39,
   "metadata": {},
   "outputs": [],
   "source": [
    "\n",
    "from math import isclose\n",
    "from sklearn.decomposition import PCA\n",
    "import os\n",
    "import networkx as nx\n",
    "import numpy as np\n",
    "import pandas as pd\n",
    "from stellargraph import StellarGraph, datasets\n",
    "from stellargraph.data import EdgeSplitter\n",
    "from collections import Counter\n",
    "import multiprocessing\n",
    "from IPython.display import display, HTML\n",
    "from sklearn.model_selection import train_test_split"
   ]
  },
  {
   "cell_type": "code",
   "execution_count": 40,
   "metadata": {},
   "outputs": [
    {
     "name": "stdout",
     "output_type": "stream",
     "text": [
      "StellarGraph: Undirected multigraph\n",
      " Nodes: 151, Edges: 1056\n",
      "\n",
      " Node types:\n",
      "  default: [151]\n",
      "    Features: none\n",
      "    Edge types: default-default->default\n",
      "\n",
      " Edge types:\n",
      "    default-default->default: [1056]\n",
      "        Weights: all 1 (default)\n",
      "        Features: none\n"
     ]
    }
   ],
   "source": [
    "graph = StellarGraph.from_networkx(G)\n",
    "print(graph.info())"
   ]
  },
  {
   "cell_type": "code",
   "execution_count": 41,
   "metadata": {},
   "outputs": [
    {
     "name": "stdout",
     "output_type": "stream",
     "text": [
      "** Sampled 105 positive and 105 negative edges. **\n",
      "StellarGraph: Undirected multigraph\n",
      " Nodes: 151, Edges: 951\n",
      "\n",
      " Node types:\n",
      "  default: [151]\n",
      "    Features: none\n",
      "    Edge types: default-default->default\n",
      "\n",
      " Edge types:\n",
      "    default-default->default: [951]\n",
      "        Weights: all 1 (default)\n",
      "        Features: none\n"
     ]
    }
   ],
   "source": [
    "# Define an edge splitter on the original graph:\n",
    "edge_splitter_test = EdgeSplitter(graph)\n",
    "\n",
    "# Randomly sample a fraction p=0.1 of all positive links, and same number of negative links, from graph, and obtain the\n",
    "# reduced graph graph_test with the sampled links removed:\n",
    "graph_test, examples_test, labels_test = edge_splitter_test.train_test_split(\n",
    "    p=0.1, method=\"global\"\n",
    ")\n",
    "\n",
    "print(graph_test.info())\n",
    "\n"
   ]
  },
  {
   "cell_type": "code",
   "execution_count": 42,
   "metadata": {},
   "outputs": [
    {
     "name": "stdout",
     "output_type": "stream",
     "text": [
      "** Sampled 95 positive and 95 negative edges. **\n",
      "StellarGraph: Undirected multigraph\n",
      " Nodes: 151, Edges: 856\n",
      "\n",
      " Node types:\n",
      "  default: [151]\n",
      "    Features: none\n",
      "    Edge types: default-default->default\n",
      "\n",
      " Edge types:\n",
      "    default-default->default: [856]\n",
      "        Weights: all 1 (default)\n",
      "        Features: none\n"
     ]
    }
   ],
   "source": [
    "# Do the same process to compute a training subset from within the test graph\n",
    "edge_splitter_train = EdgeSplitter(graph_test, graph)\n",
    "graph_train, examples, labels = edge_splitter_train.train_test_split(\n",
    "    p=0.1, method=\"global\"\n",
    ")\n",
    "(\n",
    "    examples_train,\n",
    "    examples_model_selection,\n",
    "    labels_train,\n",
    "    labels_model_selection,\n",
    ") = train_test_split(examples, labels, train_size=0.75, test_size=0.25)\n",
    "\n",
    "print(graph_train.info())\n",
    "\n"
   ]
  },
  {
   "cell_type": "code",
   "execution_count": 43,
   "metadata": {},
   "outputs": [
    {
     "data": {
      "text/html": [
       "<div>\n",
       "<style scoped>\n",
       "    .dataframe tbody tr th:only-of-type {\n",
       "        vertical-align: middle;\n",
       "    }\n",
       "\n",
       "    .dataframe tbody tr th {\n",
       "        vertical-align: top;\n",
       "    }\n",
       "\n",
       "    .dataframe thead th {\n",
       "        text-align: right;\n",
       "    }\n",
       "</style>\n",
       "<table border=\"1\" class=\"dataframe\">\n",
       "  <thead>\n",
       "    <tr style=\"text-align: right;\">\n",
       "      <th></th>\n",
       "      <th>Number of Examples</th>\n",
       "      <th>Hidden from</th>\n",
       "      <th>Picked from</th>\n",
       "      <th>Use</th>\n",
       "    </tr>\n",
       "    <tr>\n",
       "      <th>Split</th>\n",
       "      <th></th>\n",
       "      <th></th>\n",
       "      <th></th>\n",
       "      <th></th>\n",
       "    </tr>\n",
       "  </thead>\n",
       "  <tbody>\n",
       "    <tr>\n",
       "      <th>Training Set</th>\n",
       "      <td>142</td>\n",
       "      <td>Train Graph</td>\n",
       "      <td>Test Graph</td>\n",
       "      <td>Train the Link Classifier</td>\n",
       "    </tr>\n",
       "    <tr>\n",
       "      <th>Model Selection</th>\n",
       "      <td>48</td>\n",
       "      <td>Train Graph</td>\n",
       "      <td>Test Graph</td>\n",
       "      <td>Select the best Link Classifier model</td>\n",
       "    </tr>\n",
       "    <tr>\n",
       "      <th>Test set</th>\n",
       "      <td>210</td>\n",
       "      <td>Test Graph</td>\n",
       "      <td>Full Graph</td>\n",
       "      <td>Evaluate the best Link Classifier</td>\n",
       "    </tr>\n",
       "  </tbody>\n",
       "</table>\n",
       "</div>"
      ],
      "text/plain": [
       "                 Number of Examples  Hidden from Picked from  \\\n",
       "Split                                                          \n",
       "Training Set                    142  Train Graph  Test Graph   \n",
       "Model Selection                  48  Train Graph  Test Graph   \n",
       "Test set                        210   Test Graph  Full Graph   \n",
       "\n",
       "                                                   Use  \n",
       "Split                                                   \n",
       "Training Set                 Train the Link Classifier  \n",
       "Model Selection  Select the best Link Classifier model  \n",
       "Test set             Evaluate the best Link Classifier  "
      ]
     },
     "execution_count": 43,
     "metadata": {},
     "output_type": "execute_result"
    }
   ],
   "source": [
    "pd.DataFrame(\n",
    "    [\n",
    "        (\n",
    "            \"Training Set\",\n",
    "            len(examples_train),\n",
    "            \"Train Graph\",\n",
    "            \"Test Graph\",\n",
    "            \"Train the Link Classifier\",\n",
    "        ),\n",
    "        (\n",
    "            \"Model Selection\",\n",
    "            len(examples_model_selection),\n",
    "            \"Train Graph\",\n",
    "            \"Test Graph\",\n",
    "            \"Select the best Link Classifier model\",\n",
    "        ),\n",
    "        (\n",
    "            \"Test set\",\n",
    "            len(examples_test),\n",
    "            \"Test Graph\",\n",
    "            \"Full Graph\",\n",
    "            \"Evaluate the best Link Classifier\",\n",
    "        ),\n",
    "    ],\n",
    "    columns=(\"Split\", \"Number of Examples\", \"Hidden from\", \"Picked from\", \"Use\"),\n",
    ").set_index(\"Split\")"
   ]
  },
  {
   "cell_type": "code",
   "execution_count": 44,
   "metadata": {},
   "outputs": [],
   "source": [
    "p = 1.0\n",
    "q = 1.0\n",
    "dimensions = 128\n",
    "num_walks = 10\n",
    "walk_length = 80\n",
    "window_size = 10\n",
    "num_iter = 1\n",
    "workers = multiprocessing.cpu_count()"
   ]
  },
  {
   "cell_type": "code",
   "execution_count": 45,
   "metadata": {},
   "outputs": [],
   "source": [
    "from sklearn.pipeline import Pipeline\n",
    "from sklearn.linear_model import LogisticRegressionCV\n",
    "from sklearn.metrics import roc_auc_score\n",
    "from sklearn.preprocessing import StandardScaler\n",
    "\n",
    "\n",
    "# 1. link embeddings\n",
    "def link_examples_to_features(link_examples, transform_node, binary_operator):\n",
    "    return [\n",
    "        binary_operator(transform_node(src), transform_node(dst))\n",
    "        for src, dst in link_examples\n",
    "    ]\n",
    "\n",
    "\n",
    "# 2. training classifier\n",
    "def train_link_prediction_model(\n",
    "    link_examples, link_labels, get_embedding, binary_operator\n",
    "):\n",
    "    clf = link_prediction_classifier()\n",
    "    link_features = link_examples_to_features(\n",
    "        link_examples, get_embedding, binary_operator\n",
    "    )\n",
    "    clf.fit(link_features, link_labels)\n",
    "    return clf\n",
    "\n",
    "\n",
    "def link_prediction_classifier(max_iter=2000):\n",
    "    lr_clf = LogisticRegressionCV(Cs=10, cv=10, scoring=\"roc_auc\", max_iter=max_iter)\n",
    "    return Pipeline(steps=[(\"sc\", StandardScaler()), (\"clf\", lr_clf)])\n",
    "\n",
    "\n",
    "# 3. and 4. evaluate classifier\n",
    "def evaluate_link_prediction_model(\n",
    "    clf, link_examples_test, link_labels_test, get_embedding, binary_operator\n",
    "):\n",
    "    link_features_test = link_examples_to_features(\n",
    "        link_examples_test, get_embedding, binary_operator\n",
    "    )\n",
    "    score = evaluate_roc_auc(clf, link_features_test, link_labels_test)\n",
    "    return score\n",
    "\n",
    "\n",
    "def evaluate_roc_auc(clf, link_features, link_labels):\n",
    "    predicted = clf.predict_proba(link_features)\n",
    "\n",
    "    # check which class corresponds to positive links\n",
    "    positive_column = list(clf.classes_).index(1)\n",
    "    return roc_auc_score(link_labels, predicted[:, positive_column])"
   ]
  },
  {
   "cell_type": "code",
   "execution_count": 51,
   "metadata": {},
   "outputs": [],
   "source": [
    "from stellargraph.data import BiasedRandomWalk\n",
    "from gensim.models import Word2Vec\n",
    "\n",
    "\n",
    "def node2vec_embedding(graph, name):\n",
    "    rw = BiasedRandomWalk(graph)\n",
    "    walks = rw.run(graph.nodes(), n=num_walks, length=walk_length, p=p, q=q)\n",
    "    print(f\"Number of random walks for '{name}': {len(walks)}\")\n",
    "\n",
    "    model = Word2Vec(\n",
    "        walks,\n",
    "        size=dimensions,\n",
    "        window=window_size,\n",
    "        min_count=0,\n",
    "        sg=1,\n",
    "        workers=workers,\n",
    "        iter=num_iter,\n",
    "    )\n",
    "\n",
    "    def get_embedding(u):\n",
    "        return model.wv[u]\n",
    "\n",
    "    return get_embedding\n",
    "\n"
   ]
  },
  {
   "cell_type": "code",
   "execution_count": 52,
   "metadata": {},
   "outputs": [
    {
     "name": "stdout",
     "output_type": "stream",
     "text": [
      "Number of random walks for 'Train Graph': 1510\n"
     ]
    }
   ],
   "source": [
    "embedding_train = node2vec_embedding(graph_train, \"Train Graph\")"
   ]
  },
  {
   "cell_type": "code",
   "execution_count": 53,
   "metadata": {},
   "outputs": [],
   "source": [
    "def operator_hadamard(u, v):\n",
    "    return u * v\n",
    "\n",
    "\n",
    "def operator_l1(u, v):\n",
    "    return np.abs(u - v)\n",
    "\n",
    "\n",
    "def operator_l2(u, v):\n",
    "    return (u - v) ** 2\n",
    "\n",
    "\n",
    "def operator_avg(u, v):\n",
    "    return (u + v) / 2.0\n",
    "\n",
    "\n",
    "def run_link_prediction(binary_operator):\n",
    "    clf = train_link_prediction_model(\n",
    "        examples_train, labels_train, embedding_train, binary_operator\n",
    "    )\n",
    "    score = evaluate_link_prediction_model(\n",
    "        clf,\n",
    "        examples_model_selection,\n",
    "        labels_model_selection,\n",
    "        embedding_train,\n",
    "        binary_operator,\n",
    "    )\n",
    "\n",
    "    return {\n",
    "        \"classifier\": clf,\n",
    "        \"binary_operator\": binary_operator,\n",
    "        \"score\": score,\n",
    "    }\n",
    "\n",
    "\n",
    "binary_operators = [operator_hadamard, operator_l1, operator_l2, operator_avg]"
   ]
  },
  {
   "cell_type": "code",
   "execution_count": 54,
   "metadata": {},
   "outputs": [
    {
     "name": "stdout",
     "output_type": "stream",
     "text": [
      "Best result from 'operator_l2'\n"
     ]
    },
    {
     "data": {
      "text/html": [
       "<div>\n",
       "<style scoped>\n",
       "    .dataframe tbody tr th:only-of-type {\n",
       "        vertical-align: middle;\n",
       "    }\n",
       "\n",
       "    .dataframe tbody tr th {\n",
       "        vertical-align: top;\n",
       "    }\n",
       "\n",
       "    .dataframe thead th {\n",
       "        text-align: right;\n",
       "    }\n",
       "</style>\n",
       "<table border=\"1\" class=\"dataframe\">\n",
       "  <thead>\n",
       "    <tr style=\"text-align: right;\">\n",
       "      <th></th>\n",
       "      <th>ROC AUC score</th>\n",
       "    </tr>\n",
       "    <tr>\n",
       "      <th>name</th>\n",
       "      <th></th>\n",
       "    </tr>\n",
       "  </thead>\n",
       "  <tbody>\n",
       "    <tr>\n",
       "      <th>operator_hadamard</th>\n",
       "      <td>0.662587</td>\n",
       "    </tr>\n",
       "    <tr>\n",
       "      <th>operator_l1</th>\n",
       "      <td>0.868881</td>\n",
       "    </tr>\n",
       "    <tr>\n",
       "      <th>operator_l2</th>\n",
       "      <td>0.872378</td>\n",
       "    </tr>\n",
       "    <tr>\n",
       "      <th>operator_avg</th>\n",
       "      <td>0.791958</td>\n",
       "    </tr>\n",
       "  </tbody>\n",
       "</table>\n",
       "</div>"
      ],
      "text/plain": [
       "                   ROC AUC score\n",
       "name                            \n",
       "operator_hadamard       0.662587\n",
       "operator_l1             0.868881\n",
       "operator_l2             0.872378\n",
       "operator_avg            0.791958"
      ]
     },
     "execution_count": 54,
     "metadata": {},
     "output_type": "execute_result"
    }
   ],
   "source": [
    "results = [run_link_prediction(op) for op in binary_operators]\n",
    "best_result = max(results, key=lambda result: result[\"score\"])\n",
    "\n",
    "print(f\"Best result from '{best_result['binary_operator'].__name__}'\")\n",
    "\n",
    "pd.DataFrame(\n",
    "    [(result[\"binary_operator\"].__name__, result[\"score\"]) for result in results],\n",
    "    columns=(\"name\", \"ROC AUC score\"),\n",
    ").set_index(\"name\")"
   ]
  },
  {
   "cell_type": "code",
   "execution_count": 55,
   "metadata": {},
   "outputs": [
    {
     "name": "stdout",
     "output_type": "stream",
     "text": [
      "Number of random walks for 'Test Graph': 1510\n"
     ]
    }
   ],
   "source": [
    "embedding_test = node2vec_embedding(graph_test, \"Test Graph\")"
   ]
  },
  {
   "cell_type": "code",
   "execution_count": 56,
   "metadata": {},
   "outputs": [
    {
     "name": "stdout",
     "output_type": "stream",
     "text": [
      "ROC AUC score on test set using 'operator_l2': 0.8583219954648527\n"
     ]
    }
   ],
   "source": [
    "test_score = evaluate_link_prediction_model(\n",
    "    best_result[\"classifier\"],\n",
    "    examples_test,\n",
    "    labels_test,\n",
    "    embedding_test,\n",
    "    best_result[\"binary_operator\"],\n",
    ")\n",
    "print(\n",
    "    f\"ROC AUC score on test set using '{best_result['binary_operator'].__name__}': {test_score}\"\n",
    ")\n",
    "\n"
   ]
  },
  {
   "cell_type": "code",
   "execution_count": 57,
   "metadata": {},
   "outputs": [
    {
     "data": {
      "text/plain": [
       "<matplotlib.collections.PathCollection at 0x2d6dac7a1c8>"
      ]
     },
     "execution_count": 57,
     "metadata": {},
     "output_type": "execute_result"
    },
    {
     "data": {
      "image/png": "[encoded data removed]",
      "text/plain": [
       "<Figure size 1152x864 with 1 Axes>"
      ]
     },
     "metadata": {
      "needs_background": "light"
     },
     "output_type": "display_data"
    }
   ],
   "source": [
    "# Calculate edge features for test data\n",
    "link_features = link_examples_to_features(\n",
    "    examples_test, embedding_test, best_result[\"binary_operator\"]\n",
    ")\n",
    "\n",
    "# Learn a projection from 128 dimensions to 2\n",
    "pca = PCA(n_components=2)\n",
    "X_transformed = pca.fit_transform(link_features)\n",
    "\n",
    "# plot the 2-dimensional points\n",
    "plt.figure(figsize=(16, 12))\n",
    "plt.scatter(\n",
    "    X_transformed[:, 0],\n",
    "    X_transformed[:, 1],\n",
    "    c=np.where(labels_test == 1, \"b\", \"r\"),\n",
    "    alpha=0.5,\n",
    ")\n",
    "\n"
   ]
  }
 ],
 "metadata": {
  "kernelspec": {
   "display_name": "ame",
   "language": "python",
   "name": "python3"
  },
  "language_info": {
   "codemirror_mode": {
    "name": "ipython",
    "version": 3
   },
   "file_extension": ".py",
   "mimetype": "text/x-python",
   "name": "python",
   "nbconvert_exporter": "python",
   "pygments_lexer": "ipython3",
   "version": "3.7.13"
  },
  "orig_nbformat": 4,
  "vscode": {
   "interpreter": {
    "hash": "5581892b78163d90cdac9a401c899c168932aeca0b48d4f5d5d489e0002d9a6c"
   }
  }
 },
 "nbformat": 4,
 "nbformat_minor": 2
}
